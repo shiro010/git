{
 "cells": [
  {
   "cell_type": "markdown",
   "id": "61367c4c",
   "metadata": {},
   "source": [
    "# word2vec\n",
    "word2vecにはCBOWとskip-gramが存在。  \n",
    "CBOWはコンテキストから単語を推測、skip-gramは単語から周囲のコンテキストを推測。\n",
    "\n",
    "\n",
    "### CBOW\n",
    "CBOWモデルはコンテキストからターゲットを推測するモデル。  \n",
    "（前後1単語から推測する場合は）入力層が二つ、中間層が一つ、出力層で出来ている。  \n",
    "出力層は各単語のスコアを計算し、最終的にsoftmax関数を用いてターゲットとなる単語を選ぶ。  \n",
    "損失関数は\n",
    "$$ L = -\\frac{1}{T}\\sum^T_{t=1}\\log{P(w_t | w_{t-1}, w_{t+1})}$$\n",
    "\n",
    "\n",
    "### skip-gram\n",
    "CBOWモデルを逆転させたような構造。  \n",
    "前後1単語を予測する場合は次のような損失関数\n",
    "$$ L= -\\frac{1}{T}\\sum^T_{t=1}(\\log{P(w_{t-1}|w_t)+log{P(w_{t+1}|w_t)}}) $$\n",
    "\n",
    "\n",
    "参考url\n",
    "- https://qiita.com/g-k/items/69afa87c73654af49d36\n"
   ]
  },
  {
   "cell_type": "code",
   "execution_count": null,
   "id": "23b6b21a",
   "metadata": {},
   "outputs": [],
   "source": []
  },
  {
   "cell_type": "code",
   "execution_count": 2,
   "id": "6504c1a4",
   "metadata": {},
   "outputs": [],
   "source": [
    "import numpy as np\n",
    "import torch\n",
    "import torch.nn as nn\n",
    "import torch.optim as optim\n",
    "from collections import Counter\n",
    "import random\n"
   ]
  },
  {
   "cell_type": "code",
   "execution_count": null,
   "id": "5736da4e",
   "metadata": {},
   "outputs": [
    {
     "name": "stdout",
     "output_type": "stream",
     "text": [
      "0 say\n",
      "1 i\n",
      "2 hello\n",
      "3 you\n",
      "4 goodbye\n",
      "5 and\n",
      "{'say': 0, 'i': 1, 'hello': 2, 'you': 3, 'goodbye': 4, 'and': 5}\n",
      "dict_items([('say', 0), ('i', 1), ('hello', 2), ('you', 3), ('goodbye', 4), ('and', 5)])\n",
      "{0: 'say', 1: 'i', 2: 'hello', 3: 'you', 4: 'goodbye', 5: 'and'}\n",
      "\"You say goodbye and I say hello\" is transformed as [3, 0, 4, 5, 1, 0, 2]\n"
     ]
    }
   ],
   "source": [
    "corpus = \"You say goodbye and I say hello\"\n",
    "# print(corpus.lower())\n",
    "corpus = corpus.lower().split()\n",
    "# print(corpus)\n",
    "# print(set(corpus))\n",
    "# print(enumerate(set(corpus)))\n",
    "# for i, item in enumerate(set(corpus)):\n",
    "#     print(i, item)\n",
    "# 単語をIDに変換\n",
    "word2idx = {word: idx for idx, word in enumerate(set(corpus))} # wordからindexを取得するリスト\n",
    "print(word2idx)\n",
    "idx2word = {idx: word for word, idx in word2idx.items()} # indexからwordを取得するリスト\n",
    "print(word2idx.items())\n",
    "print(idx2word)\n",
    "vocab_size = len(word2idx)\n",
    "\n",
    "# 単語ID列\n",
    "corpus_ids = [word2idx[w] for w in corpus]\n",
    "print(\"\\\"You say goodbye and I say hello\\\" is transformed as\", corpus_ids)\n"
   ]
  },
  {
   "cell_type": "code",
   "execution_count": 4,
   "id": "b4183ef4",
   "metadata": {},
   "outputs": [],
   "source": [
    "def generate_training_data(corpus_ids, window_size=2):\n",
    "    pairs = []\n",
    "    for i, target in enumerate(corpus_ids):\n",
    "        for j in range(-window_size, window_size + 1):\n",
    "            if j == 0 or i + j < 0 or i + j >= len(corpus_ids):\n",
    "                continue\n",
    "            context = corpus_ids[i + j]\n",
    "            pairs.append((target, context))\n",
    "    return pairs\n",
    "\n",
    "pairs = generate_training_data(corpus_ids)\n"
   ]
  },
  {
   "cell_type": "code",
   "execution_count": 30,
   "id": "f9647cf8",
   "metadata": {},
   "outputs": [],
   "source": [
    "class Word2Vec(nn.Module):\n",
    "    def __init__(self, vocab_size, embedding_dim):\n",
    "        super().__init__()\n",
    "        self.input_embeddings = nn.Embedding(vocab_size, embedding_dim)\n",
    "        self.output_embeddings = nn.Embedding(vocab_size, embedding_dim)\n",
    "\n",
    "    def forward(self, center_words, context_words, negative_words):\n",
    "        center_embeds = self.input_embeddings(center_words)\n",
    "        pos_embeds = self.output_embeddings(context_words)\n",
    "        neg_embeds = self.output_embeddings(negative_words)\n",
    "\n",
    "        pos_score = torch.sum(center_embeds * pos_embeds, dim=1)\n",
    "        pos_loss = torch.log(torch.sigmoid(pos_score))\n",
    "\n",
    "        neg_score = torch.bmm(neg_embeds, center_embeds.unsqueeze(2)).squeeze(2)\n",
    "        neg_loss = torch.log(torch.sigmoid(-neg_score), dim=1)\n",
    "\n",
    "        return -(pos_loss + neg_loss).mean()\n"
   ]
  },
  {
   "cell_type": "code",
   "execution_count": 31,
   "id": "8eeb4c58",
   "metadata": {},
   "outputs": [
    {
     "ename": "RuntimeError",
     "evalue": "batch1 must be a 3D tensor",
     "output_type": "error",
     "traceback": [
      "\u001b[0;31m---------------------------------------------------------------------------\u001b[0m",
      "\u001b[0;31mRuntimeError\u001b[0m                              Traceback (most recent call last)",
      "Cell \u001b[0;32mIn[31], line 22\u001b[0m\n\u001b[1;32m     19\u001b[0m context_tensor \u001b[38;5;241m=\u001b[39m torch\u001b[38;5;241m.\u001b[39mtensor([context])\n\u001b[1;32m     20\u001b[0m negative_tensor \u001b[38;5;241m=\u001b[39m torch\u001b[38;5;241m.\u001b[39mtensor([get_negative_samples(context, vocab_size)])\u001b[38;5;241m.\u001b[39munsqueeze(\u001b[38;5;241m0\u001b[39m)\n\u001b[0;32m---> 22\u001b[0m loss \u001b[38;5;241m=\u001b[39m \u001b[43mmodel\u001b[49m\u001b[43m(\u001b[49m\u001b[43mcenter_tensor\u001b[49m\u001b[43m,\u001b[49m\u001b[43m \u001b[49m\u001b[43mcontext_tensor\u001b[49m\u001b[43m,\u001b[49m\u001b[43m \u001b[49m\u001b[43mnegative_tensor\u001b[49m\u001b[43m)\u001b[49m\n\u001b[1;32m     23\u001b[0m optimizer\u001b[38;5;241m.\u001b[39mzero_grad()\n\u001b[1;32m     24\u001b[0m loss\u001b[38;5;241m.\u001b[39mbackward()\n",
      "File \u001b[0;32m~/anaconda3/envs/virtual_6322041/lib/python3.9/site-packages/torch/nn/modules/module.py:1751\u001b[0m, in \u001b[0;36mModule._wrapped_call_impl\u001b[0;34m(self, *args, **kwargs)\u001b[0m\n\u001b[1;32m   1749\u001b[0m     \u001b[38;5;28;01mreturn\u001b[39;00m \u001b[38;5;28mself\u001b[39m\u001b[38;5;241m.\u001b[39m_compiled_call_impl(\u001b[38;5;241m*\u001b[39margs, \u001b[38;5;241m*\u001b[39m\u001b[38;5;241m*\u001b[39mkwargs)  \u001b[38;5;66;03m# type: ignore[misc]\u001b[39;00m\n\u001b[1;32m   1750\u001b[0m \u001b[38;5;28;01melse\u001b[39;00m:\n\u001b[0;32m-> 1751\u001b[0m     \u001b[38;5;28;01mreturn\u001b[39;00m \u001b[38;5;28;43mself\u001b[39;49m\u001b[38;5;241;43m.\u001b[39;49m\u001b[43m_call_impl\u001b[49m\u001b[43m(\u001b[49m\u001b[38;5;241;43m*\u001b[39;49m\u001b[43margs\u001b[49m\u001b[43m,\u001b[49m\u001b[43m \u001b[49m\u001b[38;5;241;43m*\u001b[39;49m\u001b[38;5;241;43m*\u001b[39;49m\u001b[43mkwargs\u001b[49m\u001b[43m)\u001b[49m\n",
      "File \u001b[0;32m~/anaconda3/envs/virtual_6322041/lib/python3.9/site-packages/torch/nn/modules/module.py:1762\u001b[0m, in \u001b[0;36mModule._call_impl\u001b[0;34m(self, *args, **kwargs)\u001b[0m\n\u001b[1;32m   1757\u001b[0m \u001b[38;5;66;03m# If we don't have any hooks, we want to skip the rest of the logic in\u001b[39;00m\n\u001b[1;32m   1758\u001b[0m \u001b[38;5;66;03m# this function, and just call forward.\u001b[39;00m\n\u001b[1;32m   1759\u001b[0m \u001b[38;5;28;01mif\u001b[39;00m \u001b[38;5;129;01mnot\u001b[39;00m (\u001b[38;5;28mself\u001b[39m\u001b[38;5;241m.\u001b[39m_backward_hooks \u001b[38;5;129;01mor\u001b[39;00m \u001b[38;5;28mself\u001b[39m\u001b[38;5;241m.\u001b[39m_backward_pre_hooks \u001b[38;5;129;01mor\u001b[39;00m \u001b[38;5;28mself\u001b[39m\u001b[38;5;241m.\u001b[39m_forward_hooks \u001b[38;5;129;01mor\u001b[39;00m \u001b[38;5;28mself\u001b[39m\u001b[38;5;241m.\u001b[39m_forward_pre_hooks\n\u001b[1;32m   1760\u001b[0m         \u001b[38;5;129;01mor\u001b[39;00m _global_backward_pre_hooks \u001b[38;5;129;01mor\u001b[39;00m _global_backward_hooks\n\u001b[1;32m   1761\u001b[0m         \u001b[38;5;129;01mor\u001b[39;00m _global_forward_hooks \u001b[38;5;129;01mor\u001b[39;00m _global_forward_pre_hooks):\n\u001b[0;32m-> 1762\u001b[0m     \u001b[38;5;28;01mreturn\u001b[39;00m \u001b[43mforward_call\u001b[49m\u001b[43m(\u001b[49m\u001b[38;5;241;43m*\u001b[39;49m\u001b[43margs\u001b[49m\u001b[43m,\u001b[49m\u001b[43m \u001b[49m\u001b[38;5;241;43m*\u001b[39;49m\u001b[38;5;241;43m*\u001b[39;49m\u001b[43mkwargs\u001b[49m\u001b[43m)\u001b[49m\n\u001b[1;32m   1764\u001b[0m result \u001b[38;5;241m=\u001b[39m \u001b[38;5;28;01mNone\u001b[39;00m\n\u001b[1;32m   1765\u001b[0m called_always_called_hooks \u001b[38;5;241m=\u001b[39m \u001b[38;5;28mset\u001b[39m()\n",
      "Cell \u001b[0;32mIn[30], line 15\u001b[0m, in \u001b[0;36mWord2Vec.forward\u001b[0;34m(self, center_words, context_words, negative_words)\u001b[0m\n\u001b[1;32m     12\u001b[0m pos_score \u001b[38;5;241m=\u001b[39m torch\u001b[38;5;241m.\u001b[39msum(center_embeds \u001b[38;5;241m*\u001b[39m pos_embeds, dim\u001b[38;5;241m=\u001b[39m\u001b[38;5;241m1\u001b[39m)\n\u001b[1;32m     13\u001b[0m pos_loss \u001b[38;5;241m=\u001b[39m torch\u001b[38;5;241m.\u001b[39mlog(torch\u001b[38;5;241m.\u001b[39msigmoid(pos_score))\n\u001b[0;32m---> 15\u001b[0m neg_score \u001b[38;5;241m=\u001b[39m \u001b[43mtorch\u001b[49m\u001b[38;5;241;43m.\u001b[39;49m\u001b[43mbmm\u001b[49m\u001b[43m(\u001b[49m\u001b[43mneg_embeds\u001b[49m\u001b[43m,\u001b[49m\u001b[43m \u001b[49m\u001b[43mcenter_embeds\u001b[49m\u001b[38;5;241;43m.\u001b[39;49m\u001b[43munsqueeze\u001b[49m\u001b[43m(\u001b[49m\u001b[38;5;241;43m2\u001b[39;49m\u001b[43m)\u001b[49m\u001b[43m)\u001b[49m\u001b[38;5;241m.\u001b[39msqueeze(\u001b[38;5;241m2\u001b[39m)\n\u001b[1;32m     16\u001b[0m neg_loss \u001b[38;5;241m=\u001b[39m torch\u001b[38;5;241m.\u001b[39mlog(torch\u001b[38;5;241m.\u001b[39msigmoid(\u001b[38;5;241m-\u001b[39mneg_score), dim\u001b[38;5;241m=\u001b[39m\u001b[38;5;241m1\u001b[39m)\n\u001b[1;32m     18\u001b[0m \u001b[38;5;28;01mreturn\u001b[39;00m \u001b[38;5;241m-\u001b[39m(pos_loss \u001b[38;5;241m+\u001b[39m neg_loss)\u001b[38;5;241m.\u001b[39mmean()\n",
      "\u001b[0;31mRuntimeError\u001b[0m: batch1 must be a 3D tensor"
     ]
    }
   ],
   "source": [
    "embedding_dim = 10\n",
    "model = Word2Vec(vocab_size, embedding_dim)\n",
    "optimizer = optim.Adam(model.parameters(), lr=0.01)\n",
    "\n",
    "# ネガティブサンプリング関数\n",
    "def get_negative_samples(pos_word, vocab_size, num_neg=5):\n",
    "    neg_samples = []\n",
    "    while len(neg_samples) < num_neg:\n",
    "        w = random.randint(0, vocab_size - 1)\n",
    "        if w != pos_word:\n",
    "            neg_samples.append(w)\n",
    "    return neg_samples\n",
    "\n",
    "# 学習\n",
    "for epoch in range(100):\n",
    "    total_loss = 0\n",
    "    for center, context in pairs:\n",
    "        center_tensor = torch.tensor([center])\n",
    "        context_tensor = torch.tensor([context])\n",
    "        negative_tensor = torch.tensor([get_negative_samples(context, vocab_size)]).unsqueeze(0)\n",
    "\n",
    "        loss = model(center_tensor, context_tensor, negative_tensor)\n",
    "        optimizer.zero_grad()\n",
    "        loss.backward()\n",
    "        optimizer.step()\n",
    "\n",
    "        total_loss += loss.item()\n",
    "    if epoch % 10 == 0:\n",
    "        print(f\"Epoch {epoch}, Loss: {total_loss:.4f}\")\n"
   ]
  },
  {
   "cell_type": "code",
   "execution_count": 8,
   "id": "b87760f0",
   "metadata": {},
   "outputs": [
    {
     "name": "stdout",
     "output_type": "stream",
     "text": [
      "say: tensor([-0.2802,  0.8585,  0.8102,  0.5385, -0.0954,  1.1551,  0.2458, -1.8385,\n",
      "        -0.3713, -1.2752])\n",
      "i: tensor([ 0.2179,  0.2700,  0.7094,  1.1787, -0.3879,  0.6546, -0.9337,  0.7479,\n",
      "        -0.1273, -0.7252])\n",
      "hello: tensor([-1.4959, -0.6925, -0.4337, -1.3229, -0.2961, -0.3127,  1.0085,  0.4916,\n",
      "         0.7628, -1.1374])\n",
      "you: tensor([-0.1185, -0.3650, -0.9618, -1.0986,  0.5777,  0.4606,  0.1865,  0.1715,\n",
      "        -0.1041,  1.1317])\n",
      "goodbye: tensor([ 0.0953, -1.0774, -0.5591,  0.3436, -0.1011,  0.8020, -0.0540, -0.0117,\n",
      "         0.1995,  0.7604])\n",
      "and: tensor([ 0.2971, -0.3863, -0.0771, -1.1469,  0.8770, -1.3631, -2.7957,  0.3792,\n",
      "        -0.2224,  0.0461])\n"
     ]
    }
   ],
   "source": [
    "embeddings = model.input_embeddings.weight.data\n",
    "for word, idx in word2idx.items():\n",
    "    print(f\"{word}: {embeddings[idx]}\")\n"
   ]
  }
 ],
 "metadata": {
  "kernelspec": {
   "display_name": "virtual_6322041",
   "language": "python",
   "name": "python3"
  },
  "language_info": {
   "codemirror_mode": {
    "name": "ipython",
    "version": 3
   },
   "file_extension": ".py",
   "mimetype": "text/x-python",
   "name": "python",
   "nbconvert_exporter": "python",
   "pygments_lexer": "ipython3",
   "version": "3.9.20"
  }
 },
 "nbformat": 4,
 "nbformat_minor": 5
}
