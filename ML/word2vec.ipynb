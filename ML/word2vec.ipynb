{
 "cells": [
  {
   "cell_type": "markdown",
   "id": "61367c4c",
   "metadata": {},
   "source": [
    "# word2vec\n",
    "word2vecにはCBOWとskip-gramが存在。  \n",
    "CBOWはコンテキストから単語を推測、skip-gramは単語から周囲のコンテキストを推測。\n",
    "\n",
    "\n",
    "### CBOW\n",
    "CBOWモデルはコンテキストからターゲットを推測するモデル。  \n",
    "（前後1単語から推測する場合は）入力層が二つ、中間層が一つ、出力層で出来ている。  \n",
    "出力層は各単語のスコアを計算し、最終的にsoftmax関数を用いてターゲットとなる単語を選ぶ。  \n",
    "損失関数は\n",
    "$$ L = -\\frac{1}{T}\\sum^T_{t=1}\\log{P(w_t | w_{t-1}, w_{t+1})}$$\n",
    "\n",
    "\n",
    "### skip-gram\n",
    "CBOWモデルを逆転させたような構造。  \n",
    "前後1単語を予測する場合は次のような損失関数\n",
    "$$ L= -\\frac{1}{T}\\sum^T_{t=1}(\\log{P(w_{t-1}|w_t)+log{P(w_{t+1}|w_t)}}) $$\n",
    "\n",
    "\n",
    "参考url\n",
    "- https://qiita.com/g-k/items/69afa87c73654af49d36\n"
   ]
  },
  {
   "cell_type": "code",
   "execution_count": null,
   "id": "23b6b21a",
   "metadata": {},
   "outputs": [],
   "source": [
    "import numpy as np\n",
    "import torch\n",
    "import torch.nn as nn\n",
    "import torch.optim as optim\n",
    "from collections import Counter\n",
    "import random\n",
    "import pandas as pd\n",
    "\n",
    "df = pd.read_csv('dataset/token.csv')\n",
    "df = df[1:40]\n",
    "sentences = []\n",
    "for text in df['article']:\n",
    "    text_list = text.split(' ')\n",
    "    sentences.append(text_list)\n",
    "\n",
    "from gensim.models import Word2Vec\n",
    "model = Word2Vec(sentences,  sg=1, vector_size=100, window=5, min_count=1)"
   ]
  },
  {
   "cell_type": "code",
   "execution_count": 12,
   "id": "38cf8f3e",
   "metadata": {},
   "outputs": [
    {
     "name": "stdout",
     "output_type": "stream",
     "text": [
      "行く: 0.9988073706626892\n",
      "通勤: 0.9986675381660461\n",
      "分: 0.9986549019813538\n",
      "返信: 0.9986339807510376\n",
      "なかなか: 0.998598039150238\n",
      "支給: 0.9985608458518982\n",
      "様子: 0.9985296130180359\n",
      "位: 0.9985253214836121\n",
      "初回: 0.9985184669494629\n",
      "理解: 0.9985105991363525\n"
     ]
    }
   ],
   "source": [
    "for word, similarity in model.wv.most_similar('家族'):\n",
    "    print(f\"{word}: {similarity}\")\n"
   ]
  },
  {
   "cell_type": "code",
   "execution_count": 17,
   "id": "64951570",
   "metadata": {},
   "outputs": [
    {
     "name": "stdout",
     "output_type": "stream",
     "text": [
      "現在使用中のデバイス: cpu\n"
     ]
    },
    {
     "name": "stderr",
     "output_type": "stream",
     "text": [
      "/home/st6322041/anaconda3/envs/ML/lib/python3.9/site-packages/torch/cuda/__init__.py:174: UserWarning: CUDA initialization: The NVIDIA driver on your system is too old (found version 11070). Please update your GPU driver by downloading and installing a new version from the URL: http://www.nvidia.com/Download/index.aspx Alternatively, go to: https://pytorch.org to install a PyTorch version that has been compiled with your version of the CUDA driver. (Triggered internally at /pytorch/c10/cuda/CUDAFunctions.cpp:109.)\n",
      "  return torch._C._cuda_getDeviceCount() > 0\n"
     ]
    }
   ],
   "source": [
    "device = torch.device(\"cuda\" if torch.cuda.is_available() else \"cpu\")\n",
    "print(f\"現在使用中のデバイス: {device}\")\n"
   ]
  },
  {
   "cell_type": "code",
   "execution_count": 14,
   "id": "a75e786b",
   "metadata": {},
   "outputs": [
    {
     "ename": "KeyError",
     "evalue": "\"Key '幸福' not present in vocabulary\"",
     "output_type": "error",
     "traceback": [
      "\u001b[0;31m---------------------------------------------------------------------------\u001b[0m",
      "\u001b[0;31mKeyError\u001b[0m                                  Traceback (most recent call last)",
      "Cell \u001b[0;32mIn[14], line 1\u001b[0m\n\u001b[0;32m----> 1\u001b[0m results \u001b[38;5;241m=\u001b[39m \u001b[43mmodel\u001b[49m\u001b[38;5;241;43m.\u001b[39;49m\u001b[43mwv\u001b[49m\u001b[38;5;241;43m.\u001b[39;49m\u001b[43mmost_similar\u001b[49m\u001b[43m(\u001b[49m\u001b[43mpositive\u001b[49m\u001b[38;5;241;43m=\u001b[39;49m\u001b[43m[\u001b[49m\u001b[38;5;124;43m'\u001b[39;49m\u001b[38;5;124;43m人生\u001b[39;49m\u001b[38;5;124;43m'\u001b[39;49m\u001b[43m]\u001b[49m\u001b[43m,\u001b[49m\u001b[43m \u001b[49m\u001b[43mnegative\u001b[49m\u001b[38;5;241;43m=\u001b[39;49m\u001b[43m[\u001b[49m\u001b[38;5;124;43m'\u001b[39;49m\u001b[38;5;124;43m幸福\u001b[39;49m\u001b[38;5;124;43m'\u001b[39;49m\u001b[43m]\u001b[49m\u001b[43m)\u001b[49m\n\u001b[1;32m      2\u001b[0m \u001b[38;5;28;01mfor\u001b[39;00m word, similarity \u001b[38;5;129;01min\u001b[39;00m results:\n\u001b[1;32m      3\u001b[0m     \u001b[38;5;28mprint\u001b[39m(\u001b[38;5;124mf\u001b[39m\u001b[38;5;124m\"\u001b[39m\u001b[38;5;132;01m{\u001b[39;00mword\u001b[38;5;132;01m}\u001b[39;00m\u001b[38;5;124m: \u001b[39m\u001b[38;5;132;01m{\u001b[39;00msimilarity\u001b[38;5;132;01m:\u001b[39;00m\u001b[38;5;124m.4f\u001b[39m\u001b[38;5;132;01m}\u001b[39;00m\u001b[38;5;124m\"\u001b[39m)\n",
      "File \u001b[0;32m~/anaconda3/envs/ML/lib/python3.9/site-packages/gensim/models/keyedvectors.py:841\u001b[0m, in \u001b[0;36mKeyedVectors.most_similar\u001b[0;34m(self, positive, negative, topn, clip_start, clip_end, restrict_vocab, indexer)\u001b[0m\n\u001b[1;32m    838\u001b[0m         weight[idx] \u001b[38;5;241m=\u001b[39m item[\u001b[38;5;241m1\u001b[39m]\n\u001b[1;32m    840\u001b[0m \u001b[38;5;66;03m# compute the weighted average of all keys\u001b[39;00m\n\u001b[0;32m--> 841\u001b[0m mean \u001b[38;5;241m=\u001b[39m \u001b[38;5;28;43mself\u001b[39;49m\u001b[38;5;241;43m.\u001b[39;49m\u001b[43mget_mean_vector\u001b[49m\u001b[43m(\u001b[49m\u001b[43mkeys\u001b[49m\u001b[43m,\u001b[49m\u001b[43m \u001b[49m\u001b[43mweight\u001b[49m\u001b[43m,\u001b[49m\u001b[43m \u001b[49m\u001b[43mpre_normalize\u001b[49m\u001b[38;5;241;43m=\u001b[39;49m\u001b[38;5;28;43;01mTrue\u001b[39;49;00m\u001b[43m,\u001b[49m\u001b[43m \u001b[49m\u001b[43mpost_normalize\u001b[49m\u001b[38;5;241;43m=\u001b[39;49m\u001b[38;5;28;43;01mTrue\u001b[39;49;00m\u001b[43m,\u001b[49m\u001b[43m \u001b[49m\u001b[43mignore_missing\u001b[49m\u001b[38;5;241;43m=\u001b[39;49m\u001b[38;5;28;43;01mFalse\u001b[39;49;00m\u001b[43m)\u001b[49m\n\u001b[1;32m    842\u001b[0m all_keys \u001b[38;5;241m=\u001b[39m [\n\u001b[1;32m    843\u001b[0m     \u001b[38;5;28mself\u001b[39m\u001b[38;5;241m.\u001b[39mget_index(key) \u001b[38;5;28;01mfor\u001b[39;00m key \u001b[38;5;129;01min\u001b[39;00m keys \u001b[38;5;28;01mif\u001b[39;00m \u001b[38;5;28misinstance\u001b[39m(key, _KEY_TYPES) \u001b[38;5;129;01mand\u001b[39;00m \u001b[38;5;28mself\u001b[39m\u001b[38;5;241m.\u001b[39mhas_index_for(key)\n\u001b[1;32m    844\u001b[0m ]\n\u001b[1;32m    846\u001b[0m \u001b[38;5;28;01mif\u001b[39;00m indexer \u001b[38;5;129;01mis\u001b[39;00m \u001b[38;5;129;01mnot\u001b[39;00m \u001b[38;5;28;01mNone\u001b[39;00m \u001b[38;5;129;01mand\u001b[39;00m \u001b[38;5;28misinstance\u001b[39m(topn, \u001b[38;5;28mint\u001b[39m):\n",
      "File \u001b[0;32m~/anaconda3/envs/ML/lib/python3.9/site-packages/gensim/models/keyedvectors.py:518\u001b[0m, in \u001b[0;36mKeyedVectors.get_mean_vector\u001b[0;34m(self, keys, weights, pre_normalize, post_normalize, ignore_missing)\u001b[0m\n\u001b[1;32m    516\u001b[0m         total_weight \u001b[38;5;241m+\u001b[39m\u001b[38;5;241m=\u001b[39m \u001b[38;5;28mabs\u001b[39m(weights[idx])\n\u001b[1;32m    517\u001b[0m     \u001b[38;5;28;01melif\u001b[39;00m \u001b[38;5;129;01mnot\u001b[39;00m ignore_missing:\n\u001b[0;32m--> 518\u001b[0m         \u001b[38;5;28;01mraise\u001b[39;00m \u001b[38;5;167;01mKeyError\u001b[39;00m(\u001b[38;5;124mf\u001b[39m\u001b[38;5;124m\"\u001b[39m\u001b[38;5;124mKey \u001b[39m\u001b[38;5;124m'\u001b[39m\u001b[38;5;132;01m{\u001b[39;00mkey\u001b[38;5;132;01m}\u001b[39;00m\u001b[38;5;124m'\u001b[39m\u001b[38;5;124m not present in vocabulary\u001b[39m\u001b[38;5;124m\"\u001b[39m)\n\u001b[1;32m    520\u001b[0m \u001b[38;5;28;01mif\u001b[39;00m total_weight \u001b[38;5;241m>\u001b[39m \u001b[38;5;241m0\u001b[39m:\n\u001b[1;32m    521\u001b[0m     mean \u001b[38;5;241m=\u001b[39m mean \u001b[38;5;241m/\u001b[39m total_weight\n",
      "\u001b[0;31mKeyError\u001b[0m: \"Key '幸福' not present in vocabulary\""
     ]
    }
   ],
   "source": [
    "results = model.wv.most_similar(positive=['人生'], negative=['幸福'])\n",
    "for word, similarity in results:\n",
    "    print(f\"{word}: {similarity:.4f}\")\n"
   ]
  },
  {
   "cell_type": "code",
   "execution_count": 11,
   "id": "6504c1a4",
   "metadata": {},
   "outputs": [
    {
     "data": {
      "text/plain": [
       "<bound method NDFrame.head of          0  \\\n",
       "0        1   \n",
       "1        2   \n",
       "2        3   \n",
       "3        4   \n",
       "4        5   \n",
       "...    ...   \n",
       "7361  7362   \n",
       "7362  7363   \n",
       "7363  7364   \n",
       "7364  7365   \n",
       "7365  7366   \n",
       "\n",
       "     もうすぐ ジューン ・ ブライド と 呼ば れる 6 月 。 独 女 の 中 に は 自分 の 式 は まだ な のに 呼ば れ て ばかり ...... という 「 お祝い 貧乏 」 状態 の 人 も 多い の で は ない だろ う か ? さらに 出席 回数 を 重ね て いく と 、 こんな お願い ごと を さ れる こと も 少なく ない 。 「 お願い が ある ん だ けど ...... 友人 代表 の スピーチ 、 やっ て くれ ない か な ?」 さて そんな とき 、 独 女 は どう 対応 し たら いい か ? 最近 だ と インターネット 等 で 検索 すれ ば 友人 代表 スピーチ 用 の 例文 サイト が たくさん 出 て くる ので 、 それら を 参考 に すれ ば 、 無難 な もの は 誰 でも 作成 できる 。 しかし 由利 さん ( 33 歳 ) は ネット を 参考 に し て 作成 し た ものの 「 これ で 本当に いい の か 不安 でし た 。 一人暮らし な ので 聞か せ て 感想 を いっ て くれる 人 も い ない し 、 か と いっ て 他 の 友人 に わざわざ 聞か せる の も どう か と 思う し ......」 という こと で 活用 し た の が 、 なんと インターネット の 悩み 相談 サイト に 。 そこ に 作成 し た スピーチ 文 を 掲載 し 「 これ で 大丈夫 か 添削 し て ください 」 と メッセージ を 送っ た という の で ある 。 「 一 晩 で 3 人 位 の 人 が 添削 し て くれ まし た よ 。 ちなみに 自分 以外 に も そういう 人 は たくさん い て 、 その 相談 サイト に は 同じ よう に 添削 を お願い する 投稿 が いっぱい あり まし た 」 ( 由利 さん )。 ためし に 教え て もらっ た その サイト を み て みる と 、 確か に 「 結婚式 の スピーチ の 添削 お願い し ます 」 という 投稿 が 1000 件 を 超える くらい あっ た 。 めでたい 結婚式 の 影 で こんな ネット コミュニティ が あっ た と は 知ら なかっ た 。 しかし 「 事前 に お願い さ れる スピーチ なら 準備 が できる し まだ いい です よ 。 一番 嫌 な の は 何 と いっ て も サプライズスピーチ !」 と 語る の は 昨年 だけ で 10 万 以上 お祝い に かかっ た という お祝い 貧乏 独 女 の 薫 さん ( 35 歳 )「 私 は 基本 的 に 人前 で 話す の が 苦手 な ん です よ 。 だから いきなり 指名 さ れる と しどろもどろ に なっ て 何 も いえ なく なる 。 そうすると 自己 嫌悪 に 陥っ て 終わっ た 後 でも まったく 楽しめ なく なり ます ね 」 サプライズスピーチ の メリット として は 、 準備 し て い ない 状態 な ので 、 フランク な 本音 を しゃべっ て もらえる という 楽し さ が ある よう だ 。 しかし それ も 上手 に 対応 できる 人 なら いい が 、 苦手 な 人 の 場合 だ と 「 フランク 」 で は なく 「 しどろもどろ 」 に なる 危険 性 大 。 ちなみに プロ の 司会 者 の 場合 、 本当 の サプライズ で は なく 式 の 最中 に 「 のちほど サプライズスピーチ として ご 指名 さ せ て いただき ます 」 という 一言 が ある こと も 多い よう だ が 、 薫 さん 曰く 「 そんな 何分 前 に 言わ れ て も 無理 !」 らしい 。 要は 「 サプライズ を 楽しめる 」 という タイプ の 人選 が 大切 という こと か 。 一方 「 あり き たり じゃ つまらない し 、 ネット で 例文 を 検索 し て いる 際 に 『 こんな 方法 も ある の か !』 って 思っ て 取り入れ まし た 」 という 幸恵 さん ( 30 歳 ) が 行っ た スピーチ は 「 手紙 形式 の スピーチ 」 という もの 。 「 ○ ○ ちゃん へ みたい な 感じ で 新婦 の 友人 に お 手紙 を 書い て 読み上げる やり方 です 。 これ なら 多少 フランク な 書き方 でも 大丈夫 だ し 、 何より 暗記 し ない で 堂々 と 読み上げる こと が でき ます よ ね 。 読ん だ もの は そのまま 友人 に あげれ ば 一応 記念 に も なり ます 」 ( 幸恵 さん ) なる ほど 、 確か に これ なら 読み あげれ ば いい だけ な ので 、 人前 で 話す の が 苦手 な 人 で も 失敗 し ない かも しれ ない 。 主役 は あくまで 新郎 新婦 ながら も 、 いざ と なる と 緊張 し 、 内容 も あれこれ 考え て 、 こっそり リハーサル ...... そんな 人知れず 頑張る スピーチ 担当 独 女 たち に も 幸 あれ ( 高山 惠 )  \n",
       "0     携帯 電話 が 普及 する 以前 、 恋人 へ の 連絡 ツール は 一般 電話 が 普通 ...                                                                                                                                                                                                                                                                                                                                                                                                                                                                                                                                                                                                                                                                                                                                                                                                                                                                                                                                                                                                                                                                                                                                                                                                                                                                                                                                                                                                                                                                                                                                                                                                                                                                                                                                                                                                                                                                                                                                                                                                                                                                                                                                                                                                                                                    \n",
       "1     「 男性 は やっぱり 、 女性 の “ すっぴん ” が 大好き な ん です か ね 」...                                                                                                                                                                                                                                                                                                                                                                                                                                                                                                                                                                                                                                                                                                                                                                                                                                                                                                                                                                                                                                                                                                                                                                                                                                                                                                                                                                                                                                                                                                                                                                                                                                                                                                                                                                                                                                                                                                                                                                                                                                                                                                                                                                                                                                                    \n",
       "2     ヒップ の 加 齢 による 変化 は 「 たわむ → 下がる → 内 に 流れる 」 、 バ...                                                                                                                                                                                                                                                                                                                                                                                                                                                                                                                                                                                                                                                                                                                                                                                                                                                                                                                                                                                                                                                                                                                                                                                                                                                                                                                                                                                                                                                                                                                                                                                                                                                                                                                                                                                                                                                                                                                                                                                                                                                                                                                                                                                                                                                    \n",
       "3     6 月 から 支給 さ れる 子ども 手当 だ が 、 当初 は 子ども 一 人 当たり 月...                                                                                                                                                                                                                                                                                                                                                                                                                                                                                                                                                                                                                                                                                                                                                                                                                                                                                                                                                                                                                                                                                                                                                                                                                                                                                                                                                                                                                                                                                                                                                                                                                                                                                                                                                                                                                                                                                                                                                                                                                                                                                                                                                                                                                                                    \n",
       "4     書店 で 偶然 『 うさぎ の くれ た バレエ シューズ 』 ( 小峰 書店 安房 直子 ...                                                                                                                                                                                                                                                                                                                                                                                                                                                                                                                                                                                                                                                                                                                                                                                                                                                                                                                                                                                                                                                                                                                                                                                                                                                                                                                                                                                                                                                                                                                                                                                                                                                                                                                                                                                                                                                                                                                                                                                                                                                                                                                                                                                                                                                    \n",
       "...                                                 ...                                                                                                                                                                                                                                                                                                                                                                                                                                                                                                                                                                                                                                                                                                                                                                                                                                                                                                                                                                                                                                                                                                                                                                                                                                                                                                                                                                                                                                                                                                                                                                                                                                                                                                                                                                                                                                                                                                                                                                                                                                                                                                                                                                                                                                                    \n",
       "7361  28 日 に 放送 さ れ た 「 JUNK 爆笑 問題 カー ボーイ 」 ( TBS ラジ...                                                                                                                                                                                                                                                                                                                                                                                                                                                                                                                                                                                                                                                                                                                                                                                                                                                                                                                                                                                                                                                                                                                                                                                                                                                                                                                                                                                                                                                                                                                                                                                                                                                                                                                                                                                                                                                                                                                                                                                                                                                                                                                                                                                                                                                    \n",
       "7362  30 日 、 元 俳優 の 黒田 勇樹 が 、 妻 の 中村 瑠衣 に 暴力 を 振るっ て...                                                                                                                                                                                                                                                                                                                                                                                                                                                                                                                                                                                                                                                                                                                                                                                                                                                                                                                                                                                                                                                                                                                                                                                                                                                                                                                                                                                                                                                                                                                                                                                                                                                                                                                                                                                                                                                                                                                                                                                                                                                                                                                                                                                                                                                    \n",
       "7363  韓国 の IT 専門 ニュース サイト 「 ブロター・ネット 」 は 、 29 日 、 サム...                                                                                                                                                                                                                                                                                                                                                                                                                                                                                                                                                                                                                                                                                                                                                                                                                                                                                                                                                                                                                                                                                                                                                                                                                                                                                                                                                                                                                                                                                                                                                                                                                                                                                                                                                                                                                                                                                                                                                                                                                                                                                                                                                                                                                                                    \n",
       "7364  米 紙 「 ウォール・ストリート・ジャーナル 」 は 29 日 、 「 竹島 争奪 戦 」 ...                                                                                                                                                                                                                                                                                                                                                                                                                                                                                                                                                                                                                                                                                                                                                                                                                                                                                                                                                                                                                                                                                                                                                                                                                                                                                                                                                                                                                                                                                                                                                                                                                                                                                                                                                                                                                                                                                                                                                                                                                                                                                                                                                                                                                                                    \n",
       "7365  『 ONEPIECE 』 や 『 NARUTO 』 、 『 BLEACH 』 といった 人気...                                                                                                                                                                                                                                                                                                                                                                                                                                                                                                                                                                                                                                                                                                                                                                                                                                                                                                                                                                                                                                                                                                                                                                                                                                                                                                                                                                                                                                                                                                                                                                                                                                                                                                                                                                                                                                                                                                                                                                                                                                                                                                                                                                                                                                                    \n",
       "\n",
       "[7366 rows x 2 columns]>"
      ]
     },
     "execution_count": 11,
     "metadata": {},
     "output_type": "execute_result"
    }
   ],
   "source": [
    "import numpy as np\n",
    "import torch\n",
    "import torch.nn as nn\n",
    "import torch.optim as optim\n",
    "from collections import Counter\n",
    "import random\n",
    "import pandas as pd\n",
    "\n",
    "df = pd.read_csv('dataset/token.csv')\n",
    "df.head\n",
    "# sentences = []\n",
    "# for text in df:\n",
    "#     text_list = text.split(' ')\n",
    "#     sentences.append(text_list)\n",
    "\n",
    "# from gensim.models import Word2Vec\n",
    "# model = Word2Vec(sentences,  sg=1, size=100, window=5, min_count=1)"
   ]
  },
  {
   "cell_type": "code",
   "execution_count": null,
   "id": "5736da4e",
   "metadata": {},
   "outputs": [
    {
     "name": "stdout",
     "output_type": "stream",
     "text": [
      "0 say\n",
      "1 i\n",
      "2 hello\n",
      "3 you\n",
      "4 goodbye\n",
      "5 and\n",
      "{'say': 0, 'i': 1, 'hello': 2, 'you': 3, 'goodbye': 4, 'and': 5}\n",
      "dict_items([('say', 0), ('i', 1), ('hello', 2), ('you', 3), ('goodbye', 4), ('and', 5)])\n",
      "{0: 'say', 1: 'i', 2: 'hello', 3: 'you', 4: 'goodbye', 5: 'and'}\n",
      "\"You say goodbye and I say hello\" is transformed as [3, 0, 4, 5, 1, 0, 2]\n"
     ]
    }
   ],
   "source": [
    "corpus = \"You say goodbye and I say hello\"\n",
    "# print(corpus.lower())\n",
    "corpus = corpus.lower().split()\n",
    "# print(corpus)\n",
    "# print(set(corpus))\n",
    "# print(enumerate(set(corpus)))\n",
    "# for i, item in enumerate(set(corpus)):\n",
    "#     print(i, item)\n",
    "# 単語をIDに変換\n",
    "word2idx = {word: idx for idx, word in enumerate(set(corpus))} # wordからindexを取得するリスト\n",
    "print(word2idx)\n",
    "idx2word = {idx: word for word, idx in word2idx.items()} # indexからwordを取得するリスト\n",
    "print(word2idx.items())\n",
    "print(idx2word)\n",
    "vocab_size = len(word2idx)\n",
    "\n",
    "# 単語ID列\n",
    "corpus_ids = [word2idx[w] for w in corpus]\n",
    "print(\"\\\"You say goodbye and I say hello\\\" is transformed as\", corpus_ids)\n"
   ]
  },
  {
   "cell_type": "code",
   "execution_count": 4,
   "id": "b4183ef4",
   "metadata": {},
   "outputs": [],
   "source": [
    "def generate_training_data(corpus_ids, window_size=2):\n",
    "    pairs = []\n",
    "    for i, target in enumerate(corpus_ids):\n",
    "        for j in range(-window_size, window_size + 1):\n",
    "            if j == 0 or i + j < 0 or i + j >= len(corpus_ids):\n",
    "                continue\n",
    "            context = corpus_ids[i + j]\n",
    "            pairs.append((target, context))\n",
    "    return pairs\n",
    "\n",
    "pairs = generate_training_data(corpus_ids)\n"
   ]
  },
  {
   "cell_type": "code",
   "execution_count": 30,
   "id": "f9647cf8",
   "metadata": {},
   "outputs": [],
   "source": [
    "class Word2Vec(nn.Module):\n",
    "    def __init__(self, vocab_size, embedding_dim):\n",
    "        super().__init__()\n",
    "        self.input_embeddings = nn.Embedding(vocab_size, embedding_dim)\n",
    "        self.output_embeddings = nn.Embedding(vocab_size, embedding_dim)\n",
    "\n",
    "    def forward(self, center_words, context_words, negative_words):\n",
    "        center_embeds = self.input_embeddings(center_words)\n",
    "        pos_embeds = self.output_embeddings(context_words)\n",
    "        neg_embeds = self.output_embeddings(negative_words)\n",
    "\n",
    "        pos_score = torch.sum(center_embeds * pos_embeds, dim=1)\n",
    "        pos_loss = torch.log(torch.sigmoid(pos_score))\n",
    "\n",
    "        neg_score = torch.bmm(neg_embeds, center_embeds.unsqueeze(2)).squeeze(2)\n",
    "        neg_loss = torch.log(torch.sigmoid(-neg_score), dim=1)\n",
    "\n",
    "        return -(pos_loss + neg_loss).mean()\n"
   ]
  },
  {
   "cell_type": "code",
   "execution_count": 31,
   "id": "8eeb4c58",
   "metadata": {},
   "outputs": [
    {
     "ename": "RuntimeError",
     "evalue": "batch1 must be a 3D tensor",
     "output_type": "error",
     "traceback": [
      "\u001b[0;31m---------------------------------------------------------------------------\u001b[0m",
      "\u001b[0;31mRuntimeError\u001b[0m                              Traceback (most recent call last)",
      "Cell \u001b[0;32mIn[31], line 22\u001b[0m\n\u001b[1;32m     19\u001b[0m context_tensor \u001b[38;5;241m=\u001b[39m torch\u001b[38;5;241m.\u001b[39mtensor([context])\n\u001b[1;32m     20\u001b[0m negative_tensor \u001b[38;5;241m=\u001b[39m torch\u001b[38;5;241m.\u001b[39mtensor([get_negative_samples(context, vocab_size)])\u001b[38;5;241m.\u001b[39munsqueeze(\u001b[38;5;241m0\u001b[39m)\n\u001b[0;32m---> 22\u001b[0m loss \u001b[38;5;241m=\u001b[39m \u001b[43mmodel\u001b[49m\u001b[43m(\u001b[49m\u001b[43mcenter_tensor\u001b[49m\u001b[43m,\u001b[49m\u001b[43m \u001b[49m\u001b[43mcontext_tensor\u001b[49m\u001b[43m,\u001b[49m\u001b[43m \u001b[49m\u001b[43mnegative_tensor\u001b[49m\u001b[43m)\u001b[49m\n\u001b[1;32m     23\u001b[0m optimizer\u001b[38;5;241m.\u001b[39mzero_grad()\n\u001b[1;32m     24\u001b[0m loss\u001b[38;5;241m.\u001b[39mbackward()\n",
      "File \u001b[0;32m~/anaconda3/envs/virtual_6322041/lib/python3.9/site-packages/torch/nn/modules/module.py:1751\u001b[0m, in \u001b[0;36mModule._wrapped_call_impl\u001b[0;34m(self, *args, **kwargs)\u001b[0m\n\u001b[1;32m   1749\u001b[0m     \u001b[38;5;28;01mreturn\u001b[39;00m \u001b[38;5;28mself\u001b[39m\u001b[38;5;241m.\u001b[39m_compiled_call_impl(\u001b[38;5;241m*\u001b[39margs, \u001b[38;5;241m*\u001b[39m\u001b[38;5;241m*\u001b[39mkwargs)  \u001b[38;5;66;03m# type: ignore[misc]\u001b[39;00m\n\u001b[1;32m   1750\u001b[0m \u001b[38;5;28;01melse\u001b[39;00m:\n\u001b[0;32m-> 1751\u001b[0m     \u001b[38;5;28;01mreturn\u001b[39;00m \u001b[38;5;28;43mself\u001b[39;49m\u001b[38;5;241;43m.\u001b[39;49m\u001b[43m_call_impl\u001b[49m\u001b[43m(\u001b[49m\u001b[38;5;241;43m*\u001b[39;49m\u001b[43margs\u001b[49m\u001b[43m,\u001b[49m\u001b[43m \u001b[49m\u001b[38;5;241;43m*\u001b[39;49m\u001b[38;5;241;43m*\u001b[39;49m\u001b[43mkwargs\u001b[49m\u001b[43m)\u001b[49m\n",
      "File \u001b[0;32m~/anaconda3/envs/virtual_6322041/lib/python3.9/site-packages/torch/nn/modules/module.py:1762\u001b[0m, in \u001b[0;36mModule._call_impl\u001b[0;34m(self, *args, **kwargs)\u001b[0m\n\u001b[1;32m   1757\u001b[0m \u001b[38;5;66;03m# If we don't have any hooks, we want to skip the rest of the logic in\u001b[39;00m\n\u001b[1;32m   1758\u001b[0m \u001b[38;5;66;03m# this function, and just call forward.\u001b[39;00m\n\u001b[1;32m   1759\u001b[0m \u001b[38;5;28;01mif\u001b[39;00m \u001b[38;5;129;01mnot\u001b[39;00m (\u001b[38;5;28mself\u001b[39m\u001b[38;5;241m.\u001b[39m_backward_hooks \u001b[38;5;129;01mor\u001b[39;00m \u001b[38;5;28mself\u001b[39m\u001b[38;5;241m.\u001b[39m_backward_pre_hooks \u001b[38;5;129;01mor\u001b[39;00m \u001b[38;5;28mself\u001b[39m\u001b[38;5;241m.\u001b[39m_forward_hooks \u001b[38;5;129;01mor\u001b[39;00m \u001b[38;5;28mself\u001b[39m\u001b[38;5;241m.\u001b[39m_forward_pre_hooks\n\u001b[1;32m   1760\u001b[0m         \u001b[38;5;129;01mor\u001b[39;00m _global_backward_pre_hooks \u001b[38;5;129;01mor\u001b[39;00m _global_backward_hooks\n\u001b[1;32m   1761\u001b[0m         \u001b[38;5;129;01mor\u001b[39;00m _global_forward_hooks \u001b[38;5;129;01mor\u001b[39;00m _global_forward_pre_hooks):\n\u001b[0;32m-> 1762\u001b[0m     \u001b[38;5;28;01mreturn\u001b[39;00m \u001b[43mforward_call\u001b[49m\u001b[43m(\u001b[49m\u001b[38;5;241;43m*\u001b[39;49m\u001b[43margs\u001b[49m\u001b[43m,\u001b[49m\u001b[43m \u001b[49m\u001b[38;5;241;43m*\u001b[39;49m\u001b[38;5;241;43m*\u001b[39;49m\u001b[43mkwargs\u001b[49m\u001b[43m)\u001b[49m\n\u001b[1;32m   1764\u001b[0m result \u001b[38;5;241m=\u001b[39m \u001b[38;5;28;01mNone\u001b[39;00m\n\u001b[1;32m   1765\u001b[0m called_always_called_hooks \u001b[38;5;241m=\u001b[39m \u001b[38;5;28mset\u001b[39m()\n",
      "Cell \u001b[0;32mIn[30], line 15\u001b[0m, in \u001b[0;36mWord2Vec.forward\u001b[0;34m(self, center_words, context_words, negative_words)\u001b[0m\n\u001b[1;32m     12\u001b[0m pos_score \u001b[38;5;241m=\u001b[39m torch\u001b[38;5;241m.\u001b[39msum(center_embeds \u001b[38;5;241m*\u001b[39m pos_embeds, dim\u001b[38;5;241m=\u001b[39m\u001b[38;5;241m1\u001b[39m)\n\u001b[1;32m     13\u001b[0m pos_loss \u001b[38;5;241m=\u001b[39m torch\u001b[38;5;241m.\u001b[39mlog(torch\u001b[38;5;241m.\u001b[39msigmoid(pos_score))\n\u001b[0;32m---> 15\u001b[0m neg_score \u001b[38;5;241m=\u001b[39m \u001b[43mtorch\u001b[49m\u001b[38;5;241;43m.\u001b[39;49m\u001b[43mbmm\u001b[49m\u001b[43m(\u001b[49m\u001b[43mneg_embeds\u001b[49m\u001b[43m,\u001b[49m\u001b[43m \u001b[49m\u001b[43mcenter_embeds\u001b[49m\u001b[38;5;241;43m.\u001b[39;49m\u001b[43munsqueeze\u001b[49m\u001b[43m(\u001b[49m\u001b[38;5;241;43m2\u001b[39;49m\u001b[43m)\u001b[49m\u001b[43m)\u001b[49m\u001b[38;5;241m.\u001b[39msqueeze(\u001b[38;5;241m2\u001b[39m)\n\u001b[1;32m     16\u001b[0m neg_loss \u001b[38;5;241m=\u001b[39m torch\u001b[38;5;241m.\u001b[39mlog(torch\u001b[38;5;241m.\u001b[39msigmoid(\u001b[38;5;241m-\u001b[39mneg_score), dim\u001b[38;5;241m=\u001b[39m\u001b[38;5;241m1\u001b[39m)\n\u001b[1;32m     18\u001b[0m \u001b[38;5;28;01mreturn\u001b[39;00m \u001b[38;5;241m-\u001b[39m(pos_loss \u001b[38;5;241m+\u001b[39m neg_loss)\u001b[38;5;241m.\u001b[39mmean()\n",
      "\u001b[0;31mRuntimeError\u001b[0m: batch1 must be a 3D tensor"
     ]
    }
   ],
   "source": [
    "embedding_dim = 10\n",
    "model = Word2Vec(vocab_size, embedding_dim)\n",
    "optimizer = optim.Adam(model.parameters(), lr=0.01)\n",
    "\n",
    "# ネガティブサンプリング関数\n",
    "def get_negative_samples(pos_word, vocab_size, num_neg=5):\n",
    "    neg_samples = []\n",
    "    while len(neg_samples) < num_neg:\n",
    "        w = random.randint(0, vocab_size - 1)\n",
    "        if w != pos_word:\n",
    "            neg_samples.append(w)\n",
    "    return neg_samples\n",
    "\n",
    "# 学習\n",
    "for epoch in range(100):\n",
    "    total_loss = 0\n",
    "    for center, context in pairs:\n",
    "        center_tensor = torch.tensor([center])\n",
    "        context_tensor = torch.tensor([context])\n",
    "        negative_tensor = torch.tensor([get_negative_samples(context, vocab_size)]).unsqueeze(0)\n",
    "\n",
    "        loss = model(center_tensor, context_tensor, negative_tensor)\n",
    "        optimizer.zero_grad()\n",
    "        loss.backward()\n",
    "        optimizer.step()\n",
    "\n",
    "        total_loss += loss.item()\n",
    "    if epoch % 10 == 0:\n",
    "        print(f\"Epoch {epoch}, Loss: {total_loss:.4f}\")\n"
   ]
  },
  {
   "cell_type": "code",
   "execution_count": 8,
   "id": "b87760f0",
   "metadata": {},
   "outputs": [
    {
     "name": "stdout",
     "output_type": "stream",
     "text": [
      "say: tensor([-0.2802,  0.8585,  0.8102,  0.5385, -0.0954,  1.1551,  0.2458, -1.8385,\n",
      "        -0.3713, -1.2752])\n",
      "i: tensor([ 0.2179,  0.2700,  0.7094,  1.1787, -0.3879,  0.6546, -0.9337,  0.7479,\n",
      "        -0.1273, -0.7252])\n",
      "hello: tensor([-1.4959, -0.6925, -0.4337, -1.3229, -0.2961, -0.3127,  1.0085,  0.4916,\n",
      "         0.7628, -1.1374])\n",
      "you: tensor([-0.1185, -0.3650, -0.9618, -1.0986,  0.5777,  0.4606,  0.1865,  0.1715,\n",
      "        -0.1041,  1.1317])\n",
      "goodbye: tensor([ 0.0953, -1.0774, -0.5591,  0.3436, -0.1011,  0.8020, -0.0540, -0.0117,\n",
      "         0.1995,  0.7604])\n",
      "and: tensor([ 0.2971, -0.3863, -0.0771, -1.1469,  0.8770, -1.3631, -2.7957,  0.3792,\n",
      "        -0.2224,  0.0461])\n"
     ]
    }
   ],
   "source": [
    "embeddings = model.input_embeddings.weight.data\n",
    "for word, idx in word2idx.items():\n",
    "    print(f\"{word}: {embeddings[idx]}\")\n"
   ]
  }
 ],
 "metadata": {
  "kernelspec": {
   "display_name": "ML",
   "language": "python",
   "name": "python3"
  },
  "language_info": {
   "codemirror_mode": {
    "name": "ipython",
    "version": 3
   },
   "file_extension": ".py",
   "mimetype": "text/x-python",
   "name": "python",
   "nbconvert_exporter": "python",
   "pygments_lexer": "ipython3",
   "version": "3.9.21"
  }
 },
 "nbformat": 4,
 "nbformat_minor": 5
}
