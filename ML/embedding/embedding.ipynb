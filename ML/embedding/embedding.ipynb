{
 "cells": [
  {
   "cell_type": "code",
   "execution_count": 1,
   "id": "edfa5e1c",
   "metadata": {},
   "outputs": [
    {
     "name": "stdout",
     "output_type": "stream",
     "text": [
      "単語インデックス: tensor([1, 2, 4, 8])\n",
      "ベクトル表現:\n",
      " tensor([[ 1.0741, -1.6461, -0.5111, -1.6780,  0.7892],\n",
      "        [-1.3493,  0.1738, -1.0129, -0.7099,  0.8031],\n",
      "        [ 0.4298,  1.0197, -0.5133,  0.1364,  1.0338],\n",
      "        [ 0.8019, -0.1885, -0.0869, -1.2768, -0.4334]],\n",
      "       grad_fn=<EmbeddingBackward0>)\n"
     ]
    }
   ],
   "source": [
    "import torch\n",
    "import torch.nn as nn\n",
    "\n",
    "# 語彙数（語彙のインデックス数）と埋め込み次元数を定義\n",
    "vocab_size = 10      # 例えば10単語\n",
    "embedding_dim = 5    # 各単語を5次元ベクトルに変換\n",
    "\n",
    "# 埋め込み層を定義\n",
    "embedding = nn.Embedding(num_embeddings=vocab_size, embedding_dim=embedding_dim)\n",
    "\n",
    "# 入力：単語インデックスのテンソル（例：文中の単語インデックス列）\n",
    "word_indices = torch.tensor([1, 2, 4, 8], dtype=torch.long)\n",
    "\n",
    "# 埋め込み層を通してベクトルに変換\n",
    "embedded_vectors = embedding(word_indices)\n",
    "\n",
    "# 結果を表示\n",
    "print(\"単語インデックス:\", word_indices)\n",
    "print(\"ベクトル表現:\\n\", embedded_vectors)"
   ]
  }
 ],
 "metadata": {
  "kernelspec": {
   "display_name": "Python 3",
   "language": "python",
   "name": "python3"
  },
  "language_info": {
   "codemirror_mode": {
    "name": "ipython",
    "version": 3
   },
   "file_extension": ".py",
   "mimetype": "text/x-python",
   "name": "python",
   "nbconvert_exporter": "python",
   "pygments_lexer": "ipython3",
   "version": "3.undefined.undefined"
  }
 },
 "nbformat": 4,
 "nbformat_minor": 5
}
