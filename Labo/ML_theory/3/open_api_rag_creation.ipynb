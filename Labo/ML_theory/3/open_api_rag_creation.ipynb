{
  "cells": [
    {
      "cell_type": "code",
      "execution_count": 1,
      "metadata": {
        "id": "k4BXDA-8rMNL"
      },
      "outputs": [],
      "source": [
        "from pathlib import Path\n",
        "import os\n",
        "from openai import OpenAI\n",
        "from dotenv import load_dotenv\n",
        "load_dotenv()\n",
        "api_key  = os.getenv('OPENAI_APIKEY')"
      ]
    },
    {
      "cell_type": "code",
      "execution_count": 2,
      "metadata": {
        "id": "SMikUdUNaGA6"
      },
      "outputs": [],
      "source": [
        "\n",
        "client = OpenAI(\n",
        "    # This is the default and can be omitted\n",
        "    api_key=api_key,\n",
        ")"
      ]
    },
    {
      "cell_type": "code",
      "execution_count": 4,
      "metadata": {
        "colab": {
          "base_uri": "https://localhost:8080/"
        },
        "id": "XnyUgKqcZbMP",
        "outputId": "ef0cd697-b3c7-462c-e2a8-d04cb7fde4d9"
      },
      "outputs": [
        {
          "name": "stdout",
          "output_type": "stream",
          "text": [
            "completed\n",
            "FileCounts(cancelled=0, completed=1, failed=0, in_progress=0, total=1)\n"
          ]
        }
      ],
      "source": [
        "vector_store = client.beta.vector_stores.create(name=\"地震発生マニュアル\")\n",
        "\n",
        "file_paths = [\"manual_jishin.pdf\"]\n",
        "file_streams = [open(path, \"rb\") for path in file_paths]\n",
        "\n",
        "file_batch = client.beta.vector_stores.file_batches.upload_and_poll(\n",
        "  vector_store_id=vector_store.id, files=file_streams\n",
        ")\n",
        "\n",
        "print(file_batch.status)\n",
        "print(file_batch.file_counts)"
      ]
    },
    {
      "cell_type": "code",
      "execution_count": 16,
      "metadata": {
        "colab": {
          "base_uri": "https://localhost:8080/"
        },
        "id": "-Z41YVmrA8h3",
        "outputId": "c6c0e034-2064-4fa6-88bc-d3ab81081313"
      },
      "outputs": [
        {
          "name": "stdout",
          "output_type": "stream",
          "text": [
            "vs_NWNBMQKLxpLRGt3pmkuU786V\n"
          ]
        }
      ],
      "source": [
        "print(vector_store.id)"
      ]
    },
    {
      "cell_type": "code",
      "execution_count": 5,
      "metadata": {
        "id": "l2zit_buaVxS"
      },
      "outputs": [],
      "source": [
        "assistant = client.beta.assistants.create(\n",
        "  name=\"地震マニュアルassistant\",\n",
        "  instructions=\"You are an expert assistant. Use your knowledge base to answer questions about 東京理科大の地震発生マニュアル.\",\n",
        "  model=\"gpt-4o\",\n",
        "  tools=[{\"type\": \"file_search\"}],\n",
        ")"
      ]
    },
    {
      "cell_type": "code",
      "execution_count": 10,
      "metadata": {
        "id": "TnCY-9kWZ9b0"
      },
      "outputs": [],
      "source": [
        "\n",
        "assistant = client.beta.assistants.update(\n",
        "  assistant_id=assistant.id,\n",
        "  tool_resources={\"file_search\": {\"vector_store_ids\": [vector_store.id]}},\n",
        ")"
      ]
    },
    {
      "cell_type": "code",
      "execution_count": 11,
      "metadata": {
        "id": "hOYK-Jao-OH9"
      },
      "outputs": [],
      "source": [
        "thread = client.beta.threads.create()\n"
      ]
    },
    {
      "cell_type": "code",
      "execution_count": 12,
      "metadata": {
        "id": "O9EFT0Vza317"
      },
      "outputs": [],
      "source": [
        "prompt = \"緊急避難の方法を教えてください\"\n",
        "\n",
        "message = client.beta.threads.messages.create(\n",
        "    thread_id=thread.id,\n",
        "    role=\"user\",\n",
        "    content=prompt,\n",
        ")\n"
      ]
    },
    {
      "cell_type": "code",
      "execution_count": 14,
      "metadata": {
        "id": "nXi-PAQk-Tsz"
      },
      "outputs": [],
      "source": [
        "run = client.beta.threads.runs.create_and_poll(\n",
        "  thread_id=thread.id,\n",
        "  assistant_id=assistant.id\n",
        ")\n"
      ]
    },
    {
      "cell_type": "code",
      "execution_count": 15,
      "metadata": {
        "colab": {
          "base_uri": "https://localhost:8080/"
        },
        "id": "wOEY2NC4_4_r",
        "outputId": "8693a8e6-cf2f-4b3e-c9fe-cf5f41e6cc87"
      },
      "outputs": [
        {
          "name": "stdout",
          "output_type": "stream",
          "text": [
            "東京理科大学の地震発生時の緊急避難に関する方法は以下の通りです：\n",
            "\n",
            "1. **屋内にいる場合**:\n",
            "   - 丈夫な机やテーブルの下に避難し、落下物や家具の転倒から身を守る[0]。\n",
            "   - 窓や棚の近くにいる場合は、すぐにそこから離れる[1]。\n",
            "   - エレベータは使用せず、階段を利用して避難する[2]。\n",
            "\n",
            "2. **火災が発生した場合**:\n",
            "   - タオルやハンカチで口を覆い、煙から身を守りながら、安全な場所に避難する[2]。\n",
            "   - 消火できない場合は、ドアや防火戸を閉めて安全な場所へ退避する[4]。\n",
            "\n",
            "3. **屋外にいる場合**:\n",
            "   - 門やブロック塀、自動販売機からは速やかに離れる[5]。\n",
            "   - 公園や空き地など広い場所に避難し、電線に触れないよう注意する[6]。\n",
            "\n",
            "4. **移動中の場合**:\n",
            "   - 車や電車にいる場合は、車両から出ないで、乗務員の指示に従うことが推奨されています[7]。\n",
            "\n",
            "これらの指示は、現場の状況によって適宜修正する必要があります。必ず現場の環境に応じた最適な行動を取るよう心がけてください。\n",
            "[0] manual_jishin.pdf\n",
            "[1] manual_jishin.pdf\n",
            "[2] manual_jishin.pdf\n",
            "[3] manual_jishin.pdf\n",
            "[4] manual_jishin.pdf\n",
            "[5] manual_jishin.pdf\n",
            "[6] manual_jishin.pdf\n",
            "[7] manual_jishin.pdf\n"
          ]
        }
      ],
      "source": [
        "messages = list(client.beta.threads.messages.list(thread_id=thread.id, run_id=run.id))\n",
        "\n",
        "message_content = messages[0].content[0].text\n",
        "annotations = message_content.annotations\n",
        "citations = []\n",
        "for index, annotation in enumerate(annotations):\n",
        "    message_content.value = message_content.value.replace(annotation.text, f\"[{index}]\")\n",
        "\n",
        "    # file_citationがある場合の処理\n",
        "    if file_citation := getattr(annotation, \"file_citation\", None):\n",
        "        cited_file = client.files.retrieve(file_citation.file_id)\n",
        "        citations.append(f\"[{index}] {cited_file.filename}\")\n",
        "\n",
        "print(message_content.value)\n",
        "print(\"\\n\".join(citations))"
      ]
    }
  ],
  "metadata": {
    "colab": {
      "provenance": []
    },
    "kernelspec": {
      "display_name": "Python 3",
      "name": "python3"
    },
    "language_info": {
      "codemirror_mode": {
        "name": "ipython",
        "version": 3
      },
      "file_extension": ".py",
      "mimetype": "text/x-python",
      "name": "python",
      "nbconvert_exporter": "python",
      "pygments_lexer": "ipython3",
      "version": "3.11.1"
    }
  },
  "nbformat": 4,
  "nbformat_minor": 0
}
