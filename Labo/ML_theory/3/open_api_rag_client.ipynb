{
  "cells": [
    {
      "cell_type": "code",
      "execution_count": 12,
      "metadata": {
        "id": "k4BXDA-8rMNL"
      },
      "outputs": [],
      "source": [
        "from pathlib import Path\n",
        "import os\n",
        "from openai import OpenAI\n",
        "from dotenv import load_dotenv\n",
        "load_dotenv()\n",
        "api_key  = os.getenv('OPENAI_APIKEY')\n",
        "vector_store_id=os.getenv('VECTOR_STORE_ID')\n",
        "assistant_id= os.getenv('ASSISTANT_ID')"
      ]
    },
    {
      "cell_type": "code",
      "execution_count": 13,
      "metadata": {
        "id": "SMikUdUNaGA6"
      },
      "outputs": [],
      "source": [
        "\n",
        "client = OpenAI(\n",
        "    # This is the default and can be omitted\n",
        "    api_key=api_key,\n",
        ")"
      ]
    },
    {
      "cell_type": "code",
      "execution_count": 14,
      "metadata": {
        "id": "hOYK-Jao-OH9"
      },
      "outputs": [],
      "source": [
        "thread = client.beta.threads.create()"
      ]
    },
    {
      "cell_type": "code",
      "execution_count": 9,
      "metadata": {
        "id": "O9EFT0Vza317"
      },
      "outputs": [],
      "source": [
        "prompt = \"緊急避難の方法を教えてください\"\n",
        "\n",
        "message = client.beta.threads.messages.create(\n",
        "    thread_id=thread.id,\n",
        "    role=\"user\",\n",
        "    content=prompt,\n",
        ")"
      ]
    },
    {
      "cell_type": "code",
      "execution_count": 10,
      "metadata": {
        "id": "nXi-PAQk-Tsz"
      },
      "outputs": [],
      "source": [
        "run = client.beta.threads.runs.create_and_poll(\n",
        "  thread_id=thread.id,\n",
        "  assistant_id=assistant_id\n",
        ")"
      ]
    },
    {
      "cell_type": "code",
      "execution_count": 11,
      "metadata": {
        "colab": {
          "base_uri": "https://localhost:8080/"
        },
        "id": "wOEY2NC4_4_r",
        "outputId": "bcfbcece-3c44-4136-d965-5fb2a6534c31"
      },
      "outputs": [
        {
          "name": "stdout",
          "output_type": "stream",
          "text": [
            "緊急避難の方法についての情報は以下の通りです。\n",
            "\n",
            "1. **屋外への避難時**：\n",
            "   - 常にエレベーターは使わず、階段を使用すること。\n",
            "   - 屋上への避難はしないように。\n",
            "   - 慌てずに周囲の様子を確認し、足元の散乱物や頭上の落下物に注意する。\n",
            "   - 押し合ったりせず、周囲の人の安全にも気を配る。\n",
            "   - 火災が発生している場合は、タオルやハンカチで口を覆い、煙からの安全を確保する[0]。\n",
            "\n",
            "2. **避難後の確認**：\n",
            "   - 避難後は迅速に人員点検を行い、逃げ遅れた人がいないかを確認する。\n",
            "   - 忘れ物があっても再び建物には戻らないようにする。\n",
            "   - 災害の状況を冷静に把握し、パニックを防止すること[0]。\n",
            "\n",
            "この情報は、地震発生時に安全に避難するための重要な指針を提供しており、集団での行動時にも心がけるべきポイントです。\n",
            "[0] manual_jishin.pdf\n",
            "[1] manual_jishin.pdf\n"
          ]
        }
      ],
      "source": [
        "messages = list(client.beta.threads.messages.list(thread_id=thread.id, run_id=run.id))\n",
        "\n",
        "message_content = messages[0].content[0].text\n",
        "annotations = message_content.annotations\n",
        "citations = []\n",
        "for index, annotation in enumerate(annotations):\n",
        "    message_content.value = message_content.value.replace(annotation.text, f\"[{index}]\")\n",
        "\n",
        "    # file_citationがある場合の処理\n",
        "    if file_citation := getattr(annotation, \"file_citation\", None):\n",
        "        cited_file = client.files.retrieve(file_citation.file_id)\n",
        "        citations.append(f\"[{index}] {cited_file.filename}\")\n",
        "\n",
        "print(message_content.value)\n",
        "print(\"\\n\".join(citations))"
      ]
    }
  ],
  "metadata": {
    "colab": {
      "provenance": []
    },
    "kernelspec": {
      "display_name": "Python 3",
      "language": "python",
      "name": "python3"
    },
    "language_info": {
      "codemirror_mode": {
        "name": "ipython",
        "version": 3
      },
      "file_extension": ".py",
      "mimetype": "text/x-python",
      "name": "python",
      "nbconvert_exporter": "python",
      "pygments_lexer": "ipython3",
      "version": "3.11.1"
    }
  },
  "nbformat": 4,
  "nbformat_minor": 0
}
