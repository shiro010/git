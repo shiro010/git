{
 "cells": [
  {
   "cell_type": "code",
   "execution_count": 1,
   "metadata": {
    "executionInfo": {
     "elapsed": 7,
     "status": "ok",
     "timestamp": 1746060507036,
     "user": {
      "displayName": "Yukio A. Uematsu",
      "userId": "05759417757711132439"
     },
     "user_tz": -540
    },
    "id": "k4BXDA-8rMNL"
   },
   "outputs": [],
   "source": [
    "from bs4 import BeautifulSoup\n",
    "import json\n",
    "import requests\n",
    "from pathlib import Path\n",
    "import os\n",
    "from openai import OpenAI\n",
    "from dotenv import load_dotenv\n",
    "load_dotenv()\n",
    "api_key  = os.getenv('OPENAI_APIKEY')\n",
    "subscription_key = os.getenv('BING_APIKEY')\n",
    "assert subscription_key\n",
    "\n",
    "\n",
    "#参考文献 https://engineering.mobalab.net/2024/04/25/ より一部抜粋"
   ]
  },
  {
   "cell_type": "code",
   "execution_count": 2,
   "metadata": {},
   "outputs": [
    {
     "name": "stdout",
     "output_type": "stream",
     "text": [
      "True\n"
     ]
    }
   ],
   "source": [
    "def check_openai_api_key(api_key):\n",
    "    client = OpenAI(api_key=api_key)\n",
    "    try:\n",
    "        # モデルのリストを取得して、API キーの有効性を確認\n",
    "        client.models.list()\n",
    "    except Exception as e:\n",
    "        print(f\"エラーが発生しました: {e}\")\n",
    "        return False  # API キーが無効またはエラー\n",
    "    else:\n",
    "        return True  # API キーが有効\n",
    "\n",
    "# 実際の API キーをここに入力\n",
    "is_valid = check_openai_api_key(api_key)\n",
    "print(is_valid)"
   ]
  },
  {
   "cell_type": "code",
   "execution_count": null,
   "metadata": {
    "executionInfo": {
     "elapsed": 5,
     "status": "ok",
     "timestamp": 1746060588330,
     "user": {
      "displayName": "Yukio A. Uematsu",
      "userId": "05759417757711132439"
     },
     "user_tz": -540
    },
    "id": "5kMeuiTnhD3V"
   },
   "outputs": [],
   "source": [
    "def get_web_content(sentence, num_results=1):\n",
    "\n",
    "    headers = {\n",
    "    }\n",
    "    params = {\n",
    "        \"key\": subscription_key,\n",
    "        \"cx\": search_engine,\n",
    "        \"q\": sentence,                     # 検索クエリ\n",
    "#        \"textDecorations\": True,\n",
    "#        \"textFormat\": \"HTML\",\n",
    "#        \"count\": num_results               # 検索結果の数を指定\n",
    "    }\n",
    "    response = requests.get(search_url, headers=headers, params=params)\n",
    "    response.raise_for_status()  # ステータスコードが200でない場合はエラーを発生させる\n",
    "    search_results = response.json()  # 検索結果をJSON形式で取得\n",
    "\n",
    "    # search_resultsからWebページのURLのみを抽出する\n",
    "    if 'items' in search_results:\n",
    "        web_pages = search_results['items']\n",
    "        urls = [page['formattedUrl'] for page in web_pages]\n",
    "\n",
    "    all_text = \"\"  # 全てのテキストをこの文字列に追加\n",
    "    print(urls)\n",
    "    # 各URLからHTMLを取得し、<body>タグ内のテキストを抽出\n",
    "    for url in urls:\n",
    "        response = requests.get(url)\n",
    " #       response.raise_for_status()  # ステータスコードが200でない場合にエラーを発生させる\n",
    "\n",
    "        html_content = response.content.decode('utf-8')\n",
    "\n",
    "        # HTMLの解析\n",
    "        soup = BeautifulSoup(html_content, 'html.parser')\n",
    "        body = soup.find('body')\n",
    "\n",
    "        if body:\n",
    "            # <body>内のすべてのテキストを抽出し、HTMLタグを除去\n",
    "            body_text = body.get_text(separator=' ', strip=True)\n",
    "            all_text += body_text + \"\\n\\n\"  # テキストを全体のテキストに追加\n",
    "        else:\n",
    "            print(f\"No <body> tag found for URL: {url}\")\n",
    "\n",
    "    if all_text:\n",
    "        message = f\"以下は「{sentence}」に関する情報です。正確な情報を取得してください。\\n{all_text}\"\n",
    "        completion = client.chat.completions.create(\n",
    "            model=\"gpt-4-turbo\",\n",
    "            messages=[\n",
    "                {\"role\": \"user\", \"content\": message}\n",
    "            ]\n",
    "        )\n",
    "\n",
    "        return completion.choices[0].message.content\n",
    "    else:\n",
    "        return \"No text was extracted from the provided URLs.\"\n"
   ]
  },
  {
   "cell_type": "code",
   "execution_count": 5,
   "metadata": {
    "executionInfo": {
     "elapsed": 36,
     "status": "ok",
     "timestamp": 1746060507116,
     "user": {
      "displayName": "Yukio A. Uematsu",
      "userId": "05759417757711132439"
     },
     "user_tz": -540
    },
    "id": "oj-Gox4edv6V"
   },
   "outputs": [],
   "source": [
    "\n",
    "\n",
    "# APIクライアントの初期化\n",
    "\n",
    "client = OpenAI(\n",
    "    # This is the default and can be omitted\n",
    "    api_key=api_key,\n",
    ")\n",
    "search_url = \"https://www.googleapis.com/customsearch/v1\"\n",
    "\n",
    "\n",
    "tools = [\n",
    "    {\n",
    "#        \"tool_call_id\": \"get_web_content\",\n",
    "        \"type\": \"function\",\n",
    "        \"function\": {\n",
    "            \"name\": \"get_web_content\",\n",
    "            \"description\": \"引数の文章でWeb上を検索して正確な情報を返す関数。\",\n",
    "            \"parameters\": {\n",
    "                \"type\": \"object\",\n",
    "                \"properties\": {\n",
    "                    \"sentence\": {\n",
    "                        \"type\": \"string\",\n",
    "                        \"description\": \"検索する文章。\",\n",
    "                    },\n",
    "                },\n",
    "                \"required\": [\"sentence\"],\n",
    "            },\n",
    "        },\n",
    "    }\n",
    "]\n",
    "\n",
    "# 初期システムメッセージの設定\n",
    "messages = [\n",
    "    {\"role\": \"system\", \"content\": \"あなたは優秀なアシスタントです。聞かれた情報を学習していない場合はWeb上を検索して正確な情報を返します。\"}\n",
    "]\n",
    "\n"
   ]
  },
  {
   "cell_type": "code",
   "execution_count": null,
   "metadata": {
    "colab": {
     "base_uri": "https://localhost:8080/"
    },
    "executionInfo": {
     "elapsed": 84518,
     "status": "ok",
     "timestamp": 1746060677068,
     "user": {
      "displayName": "Yukio A. Uematsu",
      "userId": "05759417757711132439"
     },
     "user_tz": -540
    },
    "id": "KQFvAaTDhPI0",
    "outputId": "3f84c47d-fbb3-491a-f7d4-32d92212f0ae"
   },
   "outputs": [
    {
     "name": "stdout",
     "output_type": "stream",
     "text": [
      "None\n",
      "Assistant: Hello! How can I assist you today?\n",
      "[ChatCompletionMessageToolCall(id='call_Ccw3rkh3XlJ1Pv6EFH8qXFdX', function=Function(arguments='{\"sentence\":\"東京の現在の天気\"}', name='get_web_content'), type='function')]\n",
      "get_web_content\n",
      "['https://weather.yahoo.co.jp/weather/jp/13/4410.html', 'https://weathernews.jp/onebox/tenki/tokyo/', 'https://tenki.jp/amedas/3/16/', 'https://www.nhk.or.jp/kishou-saigai/pref/weather/tokyo/', 'https://tenki.jp/radar/3/16/', 'https://www.jma.go.jp/bosai/amedas/', 'https://tokyo-ame.jwa.or.jp/', 'https://www.toshin.com/weather/detail?id=56682', 'https://typhoon.yahoo.co.jp/weather/jp/warn/13/', 'https://www.data.jma.go.jp/stats/data/mdrr/index.html']\n",
      "Assistant: 申し訳ありませんが、現在の天気情報を直接取得することはできません。東京の現在の天気を知るには、天気予報サイトやアプリを利用することをお勧めします。例えば、Weather.comや気象庁の公式サイトなどをご覧ください。\n",
      "None\n",
      "Assistant: Slackの運営会社は「Slack Technologies, Inc.」です。Slackは2021年にSalesforceによって買収され、現在はSalesforceの傘下として運営されています。\n"
     ]
    }
   ],
   "source": [
    "while True:\n",
    "    # キーボードからユーザー入力を受け取る\n",
    "    user_input = input(\"\\nあなたの質問を入力してください (終了するには 'quit' と入力): \")\n",
    "    if user_input.lower() == 'quit':\n",
    "        break\n",
    "\n",
    "    # ユーザーメッセージを追加\n",
    "    messages.append({\"role\": \"user\", \"content\": user_input})\n",
    "\n",
    "    # ChatGPTモデルに問い合わせ\n",
    "    completion = client.chat.completions.create(\n",
    "        model=\"gpt-4o\",\n",
    "        messages=messages,\n",
    "        tools=tools,\n",
    "        tool_choice=\"auto\" # assistant_response.tool_calls\n",
    "    )\n",
    "\n",
    "    assistant_response = completion.choices[0].message\n",
    "    tool_calls = assistant_response.tool_calls\n",
    "    print(tool_calls)\n",
    "    if tool_calls:\n",
    "\n",
    "        # すべてのtool_callsを処理してリストにまとめる\n",
    "        tool_calls_list = []\n",
    "        for tool_call in tool_calls:\n",
    "            tool_call_id = tool_call.id\n",
    "            tool_call_type = tool_call.type\n",
    "            tool_call_function = tool_call.function\n",
    "\n",
    "            tool_calls_list.append({\n",
    "                \"id\": tool_call_id,\n",
    "                \"type\": tool_call_type,\n",
    "                \"function\": {\n",
    "                    \"name\": tool_call_function.name,\n",
    "                    \"arguments\": tool_call_function.arguments\n",
    "                }\n",
    "            })\n",
    "\n",
    "        # tool_callsの全情報をmessagesに一度に追加\n",
    "        messages.append({\n",
    "            \"role\": \"assistant\",\n",
    "            \"tool_calls\": tool_calls_list\n",
    "        })\n",
    "\n",
    "        # ツールがget_web_contentである場合、その関数を実行する\n",
    "        for tool_call in tool_calls_list:\n",
    "            print(tool_call['function']['name'])\n",
    "            if tool_call['function']['name'] == \"get_web_content\":\n",
    "                arguments = json.loads(tool_call['function']['arguments'])\n",
    "                sentence = arguments['sentence']\n",
    "                web_content = get_web_content(sentence, num_results=1)\n",
    "                messages.append({\"tool_call_id\": tool_call['id'], \"role\": \"tool\", \"name\": tool_call['function']['name'], \"content\": web_content})\n",
    "\n",
    "        # すべての変更をAPIに送信して結果を取得\n",
    "        completion = client.chat.completions.create(\n",
    "            model=\"gpt-4o\",\n",
    "            messages=messages\n",
    "        )\n",
    "        assistant_response = completion.choices[0].message.content\n",
    "        print(\"Assistant:\", assistant_response)\n",
    "        messages.append({\"role\": \"assistant\", \"content\": assistant_response})\n",
    "    else:\n",
    "        assistant_response = assistant_response.content\n",
    "        print(\"Assistant:\", assistant_response)\n",
    "\n",
    "        messages.append({\"role\": \"assistant\", \"content\": assistant_response})\n"
   ]
  }
 ],
 "metadata": {
  "colab": {
   "provenance": []
  },
  "kernelspec": {
   "display_name": "Python 3",
   "language": "python",
   "name": "python3"
  },
  "language_info": {
   "codemirror_mode": {
    "name": "ipython",
    "version": 3
   },
   "file_extension": ".py",
   "mimetype": "text/x-python",
   "name": "python",
   "nbconvert_exporter": "python",
   "pygments_lexer": "ipython3",
   "version": "3.11.1"
  }
 },
 "nbformat": 4,
 "nbformat_minor": 0
}
