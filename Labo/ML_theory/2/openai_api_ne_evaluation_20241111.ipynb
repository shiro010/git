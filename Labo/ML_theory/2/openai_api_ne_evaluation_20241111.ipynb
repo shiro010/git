{
  "cells": [
    {
      "cell_type": "code",
      "execution_count": 1,
      "metadata": {
        "id": "k4BXDA-8rMNL"
      },
      "outputs": [],
      "source": [
        "from pathlib import Path\n",
        "import os\n",
        "from openai import OpenAI\n",
        "from dotenv import load_dotenv\n",
        "load_dotenv()\n",
        "api_key  = os.getenv('OPENAI_APIKEY')"
      ]
    },
    {
      "cell_type": "code",
      "execution_count": 2,
      "metadata": {},
      "outputs": [
        {
          "name": "stdout",
          "output_type": "stream",
          "text": [
            "True\n"
          ]
        }
      ],
      "source": [
        "def check_openai_api_key(api_key):\n",
        "    client = OpenAI(api_key=api_key)\n",
        "    try:\n",
        "        # モデルのリストを取得して、API キーの有効性を確認\n",
        "        client.models.list()\n",
        "    except Exception as e:\n",
        "        print(f\"エラーが発生しました: {e}\")\n",
        "        return False  # API キーが無効またはエラー\n",
        "    else:\n",
        "        return True  # API キーが有効\n",
        "\n",
        "# 実際の API キーをここに入力\n",
        "is_valid = check_openai_api_key(api_key)\n",
        "print(is_valid)"
      ]
    },
    {
      "cell_type": "code",
      "execution_count": 2,
      "metadata": {
        "id": "PDTWSOzCnhzK"
      },
      "outputs": [],
      "source": [
        "p = Path('jimin.txt' )   # ファイルを示すPathオブジェクトの作成\n",
        "txt = p.read_text()             # ファイル内容の読み込み\n",
        "#print( txt )                    # 内容確認"
      ]
    },
    {
      "cell_type": "code",
      "execution_count": 3,
      "metadata": {
        "id": "Uw9BCGCzt7Lg"
      },
      "outputs": [],
      "source": [
        "jimin_list=txt.splitlines()"
      ]
    },
    {
      "cell_type": "code",
      "execution_count": 4,
      "metadata": {
        "colab": {
          "base_uri": "https://localhost:8080/"
        },
        "id": "92GSxfrruBLG",
        "outputId": "8a8f443d-da36-4564-9531-5f8b033c4a85"
      },
      "outputs": [
        {
          "name": "stdout",
          "output_type": "stream",
          "text": [
            "['阿達雅志', '岩本剛人', '加藤明良', '高橋克法', '中西祐介', '藤川政人', '松山政司', '三宅伸吾', '青山繁晴', '井上義行', '臼井正一', '江島潔', '大家敏志', '清水真人', '鶴保庸介', '豊田俊郎', '永井学', '山下雄平', '赤池誠章', '衛藤晟一', '北村経夫', '小林一大', '松下新平', '山田宏', '山谷えり子', '磯崎仁彦', '越智俊之', '太田房江', '進藤金日子', '古川俊治', '山本啓介', '山本佐知子', '上野通子', '古賀友一郎', '中田宏', '比嘉奈津美', '堂故茂', '羽生田俊', '橋本聖子', '星北斗', '三浦靖', '宮沢洋一', '森まさこ', '和田政宗', '石破茂', '菅義偉', '高市早苗', '生稲晃子']\n"
          ]
        }
      ],
      "source": [
        "print(jimin_list)"
      ]
    },
    {
      "cell_type": "code",
      "execution_count": 5,
      "metadata": {
        "id": "kYH2UsduB05F"
      },
      "outputs": [],
      "source": [
        "all_people_list=\"渡辺秀央, 阿達雅志, 岩本剛人, 加田裕之, 加藤明良, 梶原大介, 古庄玄知, 藤木眞也, 堀井巌, 宮崎雅夫, 宮本周司, 杉尾秀哉, 羽田次郎, 森本真治, 上田勇, 塩田博昭, 宮崎勝, 松野明美, 舟山康江, 仁比聡平, 青木一彦, 青山繁晴, 井上義行, 臼井正一, 江島潔, 大家敏志, 高橋克法, 中西祐介, 藤川政人, 本田顕子, 松山政司, 三宅伸吾, 若林洋平, 勝部賢志, 古賀之士, 徳永エリ, 水野素子, 秋野公造, 河野義博, 窪田哲也, 安江伸夫, 猪瀬直樹, 音喜多駿, 清水貴之, 浜口誠, 紙智子, 天畠大輔, 高良鉄美, 赤松健, 石井浩郎, 神谷政幸, 佐藤正久, 清水真人, 白坂亜紀, 鶴保庸介, 友納理緒, 豊田俊郎, 永井学, 藤井一博, 山下雄平, 青木愛, 小沼巧, 熊谷裕人, 小西洋之, 宮口治子, 森屋隆, 里見隆治, 谷合正明, 矢倉克夫, 山本博司, 梅村聡, 藤巻健史, 浜野喜史, 井上哲士, 舩後靖彦, 赤池誠章, 衛藤晟一, 北村経夫, 小林一大, 松下新平, 山田宏, 山谷えり子, 吉井章, 打越さく良, 川田龍平, 三上えり, 石川博崇, 新妻秀規, 中条きよし, 柳ヶ瀬裕文, 大塚耕平, 浜田聡, 磯崎仁彦, 越智俊之, 太田房江, 進藤金日子, 古川俊治, 山本啓介, 山本佐知子, 岸真紀子, 高木真理, 広田一, 福島みずほ, 杉久武, 山本香苗, 東徹, 片山大介, 礒崎哲史, 伊藤岳, 生稲晃子, 上野通子, 古賀友一郎, 田中昌史, 中田宏, 比嘉奈津美, 石川大我, 小沢雅仁, 大椿ゆうこ, 村田享子, 伊藤孝江, 竹内真二, 松沢成文, 田村まみ, 倉林明子, 石井浩郎, 櫻井充, 滝沢求, 堂故茂, 羽生田俊, 橋本聖子, 星北斗, 三浦靖, 宮沢洋一, 森まさこ, 和田政宗, 石垣のりこ, 鬼木誠, 古賀千景, 柴愼一, 野田国義, 横沢高徳, 高橋光男, 平木大作, 横山信一, 若松謙維, 浅田均, 石井苗子, 梅村みずほ, 竹詰仁, 芳賀道也, 岩渕友, 紙智子, 大島九州男, 山本太郎, 吉川沙織, 石破茂, 野田佳彦, 馬場伸幸, 玉木雄一郎, 田村智子, 伊藤孝恵, 伊波洋一, 神谷宗幣, 高市早苗, 茂木敏充\".split(',')"
      ]
    },
    {
      "cell_type": "code",
      "execution_count": 6,
      "metadata": {
        "id": "-VpOE7fSuZV3"
      },
      "outputs": [],
      "source": [
        "# ここに，先週の課題の結果を入れよう！\n",
        "extracted_names=\"\"\"\n",
        "尾辻秀久,\n",
        "阿達雅志,\n",
        "岩本剛人,\n",
        "加田裕之,\n",
        "加藤明良,\n",
        "梶原大介,\n",
        "古庄玄知,\n",
        "藤木眞也,\n",
        "堀井巌,\n",
        "宮崎雅夫,\n",
        "宮本周司,\n",
        "青木一彦,\n",
        "青山繁晴,\n",
        "朝日健太郎,\n",
        "井上義行,\n",
        "今井絵理子,\n",
        "江島潔,\n",
        "大家敏志,\n",
        "高橋克法,\n",
        "高橋はるみ,\n",
        "中西祐介,\n",
        "藤川政人,\n",
        "松山政司,\n",
        "三原じゅん子,\n",
        "三宅伸吾,\n",
        "若林洋平,\n",
        "赤池誠章,\n",
        "衛藤晟一,\n",
        "北村経夫,\n",
        "小林一大,\n",
        "松下新平,\n",
        "山田宏,\n",
        "山谷えり子,\n",
        "石井浩郎,\n",
        "佐藤正久,\n",
        "鶴保庸介,\n",
        "豊田俊郎,\n",
        "永井学,\n",
        "藤井一博,\n",
        "宮沢洋一,\n",
        "森まさこ,\n",
        "和田政宗,\n",
        "太田房江,\n",
        "進藤金日子,\n",
        "長谷川英晴,\n",
        "古川俊治,\n",
        "山本啓介,\n",
        "山本佐知子,\n",
        "橋本聖子,\n",
        "堂故茂,\n",
        "羽生田俊,\n",
        "星北斗,\n",
        "三浦靖,\n",
        "岸田文雄,\n",
        "高市早苗,\n",
        "茂木敏充,\n",
        "\"\"\""
      ]
    },
    {
      "cell_type": "code",
      "execution_count": 7,
      "metadata": {
        "colab": {
          "base_uri": "https://localhost:8080/"
        },
        "id": "qPM6PvrBurDG",
        "outputId": "62d24242-6c1b-4a52-b970-f836644c8972"
      },
      "outputs": [
        {
          "name": "stdout",
          "output_type": "stream",
          "text": [
            "['尾辻秀久', '阿達雅志', '岩本剛人', '加田裕之', '加藤明良', '梶原大介', '古庄玄知', '藤木眞也', '堀井巌', '宮崎雅夫', '宮本周司', '青木一彦', '青山繁晴', '朝日健太郎', '井上義行', '今井絵理子', '江島潔', '大家敏志', '高橋克法', '高橋はるみ', '中西祐介', '藤川政人', '松山政司', '三原じゅん子', '三宅伸吾', '若林洋平', '赤池誠章', '衛藤晟一', '北村経夫', '小林一大', '松下新平', '山田宏', '山谷えり子', '石井浩郎', '佐藤正久', '鶴保庸介', '豊田俊郎', '永井学', '藤井一博', '宮沢洋一', '森まさこ', '和田政宗', '太田房江', '進藤金日子', '長谷川英晴', '古川俊治', '山本啓介', '山本佐知子', '橋本聖子', '堂故茂', '羽生田俊', '星北斗', '三浦靖', '岸田文雄', '高市早苗', '茂木敏充']\n"
          ]
        }
      ],
      "source": [
        "jimin_extracted_list=extracted_names.replace(',', '').replace(' ', '').splitlines()\n",
        "jimin_extracted_list.remove('')\n",
        "print(jimin_extracted_list)"
      ]
    },
    {
      "cell_type": "code",
      "execution_count": 8,
      "metadata": {
        "id": "AZOpzUr-v7HX"
      },
      "outputs": [],
      "source": [
        "positive_examples=len(jimin_list)\n",
        "pred_examples=len(jimin_extracted_list)\n",
        "tp = len(set(jimin_list)&set(jimin_extracted_list))"
      ]
    },
    {
      "cell_type": "code",
      "execution_count": 9,
      "metadata": {
        "colab": {
          "base_uri": "https://localhost:8080/"
        },
        "id": "39iOW2h_xEpt",
        "outputId": "677ae88c-875c-4a07-8f62-dbd61bbc8f70"
      },
      "outputs": [
        {
          "name": "stdout",
          "output_type": "stream",
          "text": [
            "         True False\n",
            "Positive 36 20\n",
            "Negative 12 117\n",
            "----\n",
            "\n",
            "正解数= 48\n",
            "抽出数= 56\n",
            "precision= 0.6428571428571429\n",
            "recall= 0.75\n",
            "F1_measure 0.6923076923076924\n",
            "不正解例(False positive) {'高橋はるみ', '茂木敏充', '今井絵理子', '長谷川英晴', '朝日健太郎', '佐藤正久', '岸田文雄', '三原じゅん子', '梶原大介', '藤井一博', '尾辻秀久', '藤木眞也', '若林洋平', '石井浩郎', '宮本周司', '青木一彦', '古庄玄知', '宮崎雅夫', '堀井巌', '加田裕之'}\n",
            "検出漏れ例(False negative) {'生稲晃子', '比嘉奈津美', '中田宏', '磯崎仁彦', '臼井正一', '山下雄平', '清水真人', '古賀友一郎', '越智俊之', '上野通子', '菅義偉', '石破茂'}\n"
          ]
        }
      ],
      "source": [
        "fp=pred_examples-tp\n",
        "fn=positive_examples-tp\n",
        "tn=len(all_people_list)-positive_examples\n",
        "\n",
        "print('        ','True','False')\n",
        "print('Positive',tp,fp)\n",
        "print('Negative',fn,tn)\n",
        "print('----\\n')\n",
        "\n",
        "\n",
        "print('正解数=',positive_examples)\n",
        "print('抽出数=',pred_examples)\n",
        "\n",
        "print('precision=',tp/pred_examples)\n",
        "print('recall=',tp/positive_examples)\n",
        "p = tp/pred_examples\n",
        "r = tp/positive_examples\n",
        "\n",
        "print('F1_measure', 2*p*r/(p+r))\n",
        "print('不正解例(False positive)', set(jimin_extracted_list) - set(jimin_list))\n",
        "print('検出漏れ例(False negative)', set(jimin_list)- set(jimin_extracted_list)  )"
      ]
    }
  ],
  "metadata": {
    "colab": {
      "provenance": []
    },
    "kernelspec": {
      "display_name": "Python 3",
      "language": "python",
      "name": "python3"
    },
    "language_info": {
      "codemirror_mode": {
        "name": "ipython",
        "version": 3
      },
      "file_extension": ".py",
      "mimetype": "text/x-python",
      "name": "python",
      "nbconvert_exporter": "python",
      "pygments_lexer": "ipython3",
      "version": "3.11.1"
    }
  },
  "nbformat": 4,
  "nbformat_minor": 0
}
