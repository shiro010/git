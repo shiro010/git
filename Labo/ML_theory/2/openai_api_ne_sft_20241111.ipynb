{
  "cells": [
    {
      "cell_type": "code",
      "execution_count": 1,
      "metadata": {
        "id": "k4BXDA-8rMNL"
      },
      "outputs": [],
      "source": [
        "from pathlib import Path\n",
        "import os\n",
        "from openai import OpenAI\n",
        "from dotenv import load_dotenv\n",
        "load_dotenv()\n",
        "api_key  = os.getenv('OPENAI_APIKEY')"
      ]
    },
    {
      "cell_type": "code",
      "execution_count": 2,
      "metadata": {},
      "outputs": [
        {
          "name": "stdout",
          "output_type": "stream",
          "text": [
            "True\n"
          ]
        }
      ],
      "source": [
        "def check_openai_api_key(api_key):\n",
        "    client = OpenAI(api_key=api_key)\n",
        "    try:\n",
        "        # モデルのリストを取得して、API キーの有効性を確認\n",
        "        client.models.list()\n",
        "    except Exception as e:\n",
        "        print(f\"エラーが発生しました: {e}\")\n",
        "        return False  # API キーが無効またはエラー\n",
        "    else:\n",
        "        return True  # API キーが有効\n",
        "\n",
        "# 実際の API キーをここに入力\n",
        "is_valid = check_openai_api_key(api_key)\n",
        "print(is_valid)"
      ]
    },
    {
      "cell_type": "code",
      "execution_count": null,
      "metadata": {
        "id": "PDTWSOzCnhzK"
      },
      "outputs": [],
      "source": [
        "p = Path('/content/FKG004_20241102_094934.txt' )   # ファイルを示すPathオブジェクトの作成\n",
        "txt = p.read_text()             # ファイル内容の読み込み"
      ]
    },
    {
      "cell_type": "markdown",
      "metadata": {
        "id": "E3Kv5FZEu6Xw"
      },
      "source": [
        "OpenAIのSupervised fine tuning を試してみる\n",
        "\n",
        "\n"
      ]
    },
    {
      "cell_type": "code",
      "execution_count": null,
      "metadata": {
        "id": "YFiHfAXCrsPe"
      },
      "outputs": [],
      "source": [
        "question=\"\"\"\n",
        "以下の国会会議議事録から自民党の議員の名前を以下のフォーマットで全員抽出して\n",
        "人名1,\n",
        "人名2,\n",
        "人名3,\n",
        "\n",
        "以下から議事録\n",
        "---\n",
        "\"\"\"\n",
        "model=\"gpt-4o\"\n",
        "\n",
        "client = OpenAI(\n",
        "    # This is the default and can be omitted\n",
        "    api_key=api_key,\n",
        ")\n",
        "\n",
        "question=question+txt"
      ]
    },
    {
      "cell_type": "code",
      "execution_count": null,
      "metadata": {
        "id": "nP-EAwU8pP4J"
      },
      "outputs": [],
      "source": [
        "response = client.chat.completions.create(\n",
        "    messages=[\n",
        "        {\n",
        "            \"role\": \"user\",\n",
        "            \"content\": question,\n",
        "        }\n",
        "    ],\n",
        "    model=model,\n",
        "    max_tokens=1000,\n",
        "    temperature=0.7\n",
        ")"
      ]
    },
    {
      "cell_type": "code",
      "execution_count": null,
      "metadata": {
        "colab": {
          "base_uri": "https://localhost:8080/"
        },
        "id": "m93pD33gqVIp",
        "outputId": "afe03017-15ea-42d0-c0fd-025d43673740"
      },
      "outputs": [
        {
          "name": "stdout",
          "output_type": "stream",
          "text": [
            "ChatCompletion(id='chatcmpl-ART1jDOBAoR4rzZwBhqZIT0zwoKbM', choices=[Choice(finish_reason='stop', index=0, logprobs=None, message=ChatCompletionMessage(content='以下は自民党の議員の名前のリストです。\\n\\n尾辻秀久, \\n宮崎勝, \\n若松謙維, \\n牧野たかお, \\n阿達雅志, \\n岩本剛人, \\n加田裕之, \\n加藤明良, \\n梶原大介, \\n古庄玄知, \\n藤木眞也, \\n堀井巌, \\n宮崎雅夫, \\n宮本周司, \\n羽田次郎, \\n森本真治, \\n上田勇, \\n塩田博昭, \\n青木一彦, \\n青山繁晴, \\n朝日健太郎, \\n井上義行, \\n今井絵理子, \\n臼井正一, \\n江島潔, \\n大家敏志, \\n高橋克法, \\n高橋はるみ, \\n中西祐介, \\n藤川政人, \\n本田顕子, \\n松山政司, \\n三原じゅん子, \\n三宅伸吾, \\n若林洋平, \\n勝部賢志, \\n古賀之士, \\n田島麻衣子, \\n徳永エリ, \\n水野素子, \\n河野義博, \\n窪田哲也, \\n安江伸夫, \\n音喜多駿, \\n清水貴之, \\n榛葉賀津也, \\n浜口誠, \\n赤池誠章, \\n衛藤晟一, \\n北村経夫, \\n小林一大, \\n清水真人, \\n永井学, \\n松下新平, \\n山田宏, \\n山谷えり子, \\n吉井章, \\n中条きよし, \\n柳ヶ瀬裕文, \\n大塚耕平, \\n浜田聡, \\n磯崎仁彦, \\n越智俊之, \\n太田房江, \\n進藤金日子, \\n鶴保庸介, \\n友納理緒, \\n長谷川英晴, \\n古川俊治, \\n山本啓介, \\n山本佐知子, \\n岸真紀子, \\n高木真理, \\n広田一, \\n福島みずほ, \\n杉久武, \\n山本香苗, \\n東徹, \\n片山大介, \\n礒崎哲史, \\n伊藤岳, \\n赤松健, \\n生稲晃子, \\n上野通子, \\n神谷政幸, \\n古賀友一郎, \\n田中昌史, \\n中田宏, \\n比嘉奈津美, \\n宮本周司, \\n山田太郎, \\n田村まみ, \\n石井浩郎, \\n石井浩郎, \\n磯崎仁彦, \\n江島潔, \\n太田房江, \\n梶原大介, \\n櫻井充, \\n白坂亜紀, \\n滝沢求, \\n堂故茂, \\n羽生田俊, \\n橋本聖子, \\n星北斗, \\n三浦靖, \\n宮沢洋一, \\n森まさこ, \\n和田政宗, \\n鬼木誠, \\n柴愼一, \\n野田国義, \\n横沢高徳, \\n高橋光男, \\n平木大作, \\n横山信一, \\n若松謙維, \\n浅田均, \\n石井苗子, \\n梅村みずほ, \\n竹詰仁, \\n芳賀道也, \\n岩渕友, \\n紙智子, \\n大島九州男, \\n山本太郎.', refusal=None, role='assistant', audio=None, function_call=None, tool_calls=None))], created=1731109799, model='gpt-4o-2024-08-06', object='chat.completion', service_tier=None, system_fingerprint='fp_159d8341cc', usage=CompletionUsage(completion_tokens=805, prompt_tokens=7716, total_tokens=8521, completion_tokens_details=CompletionTokensDetails(audio_tokens=0, reasoning_tokens=0, accepted_prediction_tokens=0, rejected_prediction_tokens=0), prompt_tokens_details=PromptTokensDetails(audio_tokens=0, cached_tokens=0)))\n",
            "以下は自民党の議員の名前のリストです。\n",
            "\n",
            "尾辻秀久, \n",
            "宮崎勝, \n",
            "若松謙維, \n",
            "牧野たかお, \n",
            "阿達雅志, \n",
            "岩本剛人, \n",
            "加田裕之, \n",
            "加藤明良, \n",
            "梶原大介, \n",
            "古庄玄知, \n",
            "藤木眞也, \n",
            "堀井巌, \n",
            "宮崎雅夫, \n",
            "宮本周司, \n",
            "羽田次郎, \n",
            "森本真治, \n",
            "上田勇, \n",
            "塩田博昭, \n",
            "青木一彦, \n",
            "青山繁晴, \n",
            "朝日健太郎, \n",
            "井上義行, \n",
            "今井絵理子, \n",
            "臼井正一, \n",
            "江島潔, \n",
            "大家敏志, \n",
            "高橋克法, \n",
            "高橋はるみ, \n",
            "中西祐介, \n",
            "藤川政人, \n",
            "本田顕子, \n",
            "松山政司, \n",
            "三原じゅん子, \n",
            "三宅伸吾, \n",
            "若林洋平, \n",
            "勝部賢志, \n",
            "古賀之士, \n",
            "田島麻衣子, \n",
            "徳永エリ, \n",
            "水野素子, \n",
            "河野義博, \n",
            "窪田哲也, \n",
            "安江伸夫, \n",
            "音喜多駿, \n",
            "清水貴之, \n",
            "榛葉賀津也, \n",
            "浜口誠, \n",
            "赤池誠章, \n",
            "衛藤晟一, \n",
            "北村経夫, \n",
            "小林一大, \n",
            "清水真人, \n",
            "永井学, \n",
            "松下新平, \n",
            "山田宏, \n",
            "山谷えり子, \n",
            "吉井章, \n",
            "中条きよし, \n",
            "柳ヶ瀬裕文, \n",
            "大塚耕平, \n",
            "浜田聡, \n",
            "磯崎仁彦, \n",
            "越智俊之, \n",
            "太田房江, \n",
            "進藤金日子, \n",
            "鶴保庸介, \n",
            "友納理緒, \n",
            "長谷川英晴, \n",
            "古川俊治, \n",
            "山本啓介, \n",
            "山本佐知子, \n",
            "岸真紀子, \n",
            "高木真理, \n",
            "広田一, \n",
            "福島みずほ, \n",
            "杉久武, \n",
            "山本香苗, \n",
            "東徹, \n",
            "片山大介, \n",
            "礒崎哲史, \n",
            "伊藤岳, \n",
            "赤松健, \n",
            "生稲晃子, \n",
            "上野通子, \n",
            "神谷政幸, \n",
            "古賀友一郎, \n",
            "田中昌史, \n",
            "中田宏, \n",
            "比嘉奈津美, \n",
            "宮本周司, \n",
            "山田太郎, \n",
            "田村まみ, \n",
            "石井浩郎, \n",
            "石井浩郎, \n",
            "磯崎仁彦, \n",
            "江島潔, \n",
            "太田房江, \n",
            "梶原大介, \n",
            "櫻井充, \n",
            "白坂亜紀, \n",
            "滝沢求, \n",
            "堂故茂, \n",
            "羽生田俊, \n",
            "橋本聖子, \n",
            "星北斗, \n",
            "三浦靖, \n",
            "宮沢洋一, \n",
            "森まさこ, \n",
            "和田政宗, \n",
            "鬼木誠, \n",
            "柴愼一, \n",
            "野田国義, \n",
            "横沢高徳, \n",
            "高橋光男, \n",
            "平木大作, \n",
            "横山信一, \n",
            "若松謙維, \n",
            "浅田均, \n",
            "石井苗子, \n",
            "梅村みずほ, \n",
            "竹詰仁, \n",
            "芳賀道也, \n",
            "岩渕友, \n",
            "紙智子, \n",
            "大島九州男, \n",
            "山本太郎.\n"
          ]
        }
      ],
      "source": [
        "print(response)\n",
        "print(response.choices[0].message.content)"
      ]
    },
    {
      "cell_type": "markdown",
      "metadata": {
        "id": "R4oz9eCjvDSf"
      },
      "source": [
        "プロンプトをフローにしてCoTの考え方に基づいて抽出してみる"
      ]
    },
    {
      "cell_type": "code",
      "execution_count": null,
      "metadata": {
        "id": "U94XL-Slpvga"
      },
      "outputs": [],
      "source": [
        "question=\"\"\"\n",
        "以下の国会会議議事録から人名を以下のフォーマットで全員抽出して，\n",
        "君も全て削除して苗字と名前のみの形にして\n",
        "人名1,\n",
        "人名2,\n",
        "人名3,\n",
        "\n",
        "以下から議事録\n",
        "---\n",
        "\"\"\"\n",
        "model=\"gpt-4o\"\n",
        "\n",
        "client = OpenAI(\n",
        "    # This is the default and can be omitted\n",
        "    api_key=api_key,\n",
        ")\n",
        "\n",
        "question=question+txt\n",
        "\n"
      ]
    },
    {
      "cell_type": "code",
      "execution_count": null,
      "metadata": {
        "id": "K_Zi-9Ydtj-6"
      },
      "outputs": [],
      "source": [
        "messages=[\n",
        "        {\"role\": \"user\", \"content\": question}\n",
        "]\n",
        "\n",
        "response = client.chat.completions.create(\n",
        "    messages=messages,\n",
        "    model=model,\n",
        "    max_tokens=2000,\n",
        "    temperature=0.7\n",
        ")\n",
        "\n",
        "\n"
      ]
    },
    {
      "cell_type": "code",
      "execution_count": null,
      "metadata": {
        "colab": {
          "base_uri": "https://localhost:8080/",
          "height": 243
        },
        "id": "6UhfUM9ktugn",
        "outputId": "23440a15-bf67-4fcc-9ad4-0119569ff84f"
      },
      "outputs": [
        {
          "data": {
            "application/vnd.google.colaboratory.intrinsic+json": {
              "type": "string"
            },
            "text/plain": [
              "'渡辺秀央,\\n尾辻秀久,\\n新妻秀規,\\n佐々木さやか,\\n浅尾慶一郎,\\n宮崎勝,\\n若松謙維,\\n牧野たかお,\\n阿達雅志,\\n岩本剛人,\\n加田裕之,\\n加藤明良,\\n梶原大介,\\n古庄玄知,\\n藤木眞也,\\n堀井巌,\\n宮崎雅夫,\\n宮本周司,\\n杉尾秀哉,\\n羽田次郎,\\n森本真治,\\n上田勇,\\n塩田博昭,\\n嘉田由紀子,\\n松野明美,\\n舟山康江,\\n仁比聡平,\\n青木一彦,\\n青山繁晴,\\n朝日健太郎,\\n井上義行,\\n今井絵理子,\\n臼井正一,\\n江島潔,\\n大家敏志,\\n高橋克法,\\n高橋はるみ,\\n中西祐介,\\n藤川政人,\\n本田顕子,\\n松山政司,\\n三原じゅん子,\\n三宅伸吾,\\n若林洋平,\\n勝部賢志,\\n古賀之士,\\n塩村あやか,\\n田島麻衣子,\\n徳永エリ,\\n水野素子,\\n秋野公造,\\n河野義博,\\n窪田哲也,\\n安江伸夫,\\n猪瀬直樹,\\n音喜多駿,\\n清水貴之,\\n榛葉賀津也,\\n浜口誠,\\n紙智子,\\n天畠大輔,\\n高良鉄美,\\n赤松健,\\n石井浩郎,\\n神谷政幸,\\n佐藤正久,\\n清水真人,\\n白坂亜紀,\\n鶴保庸介,\\n友納理緒,\\n豊田俊郎,\\n永井学,\\n藤井一博,\\n山下雄平,\\n青木愛,\\n小沼巧,\\n熊谷裕人,\\n小西洋之,\\n宮口治子,\\n森屋隆,\\n里見隆治,\\n谷合正明,\\n矢倉克夫,\\n山本博司,\\n梅村聡,\\n高木かおり,\\n藤巻健史,\\n浜野喜史,\\n井上哲士,\\n山下芳生,\\n舩後靖彦,\\n齊藤健一郎,\\n赤池誠章,\\n衛藤晟一,\\n北村経夫,\\n小林一大,\\n松下新平,\\n山田宏,\\n山谷えり子,\\n吉井章,\\n打越さく良,\\n川田龍平,\\n三上えり,\\n石川博崇,\\n中条きよし,\\n柳ヶ瀬裕文,\\n大塚耕平,\\n浜田聡,\\n磯崎仁彦,\\n越智俊之,\\n太田房江,\\n進藤金日子,\\n長谷川英晴,\\n古川俊治,\\n山本啓介,\\n山本佐知子,\\n岸真紀子,\\n高木真理,\\n広田一,\\n福島みずほ,\\n杉久武,\\n山本香苗,\\n東徹,\\n片山大介,\\n礒崎哲史,\\n伊藤岳,\\n生稲晃子,\\n上野通子,\\n古賀友一郎,\\n田中昌史,\\n中田宏,\\n比嘉奈津美,\\n山田太郎,\\n石川大我,\\n小沢雅仁,\\n大椿ゆうこ,\\n村田享子,\\n伊藤孝江,\\n竹内真二,\\n石井章,\\n松沢成文,\\n田村まみ,\\n倉林明子,\\n櫻井充,\\n滝沢求,\\n堂故茂,\\n羽生田俊,\\n橋本聖子,\\n星北斗,\\n三浦靖,\\n宮沢洋一,\\n森まさこ,\\n和田政宗,\\n石垣のりこ,\\n鬼木誠,\\n古賀千景,\\n柴愼一,\\n野田国義,\\n横沢高徳,\\n高橋光男,\\n平木大作,\\n横山信一,\\n浅田均,\\n石井苗子,\\n梅村みずほ,\\n竹詰仁,\\n芳賀道也,\\n岩渕友,\\n大島九州男,\\n山本太郎,\\n田名部匡代,\\n吉川沙織,\\n岸田内閣総理大臣,\\n石破茂,\\n野田佳彦,\\n馬場伸幸,\\n玉木雄一郎,\\n田村智子,\\n伊藤孝恵,\\n伊波洋一,\\n神谷宗幣,\\n高市早苗,\\n茂木敏充'"
            ]
          },
          "execution_count": 33,
          "metadata": {},
          "output_type": "execute_result"
        }
      ],
      "source": [
        "#print(response)\n",
        "response.choices[0].message.role\n",
        "response.choices[0].message.content"
      ]
    },
    {
      "cell_type": "code",
      "execution_count": null,
      "metadata": {
        "colab": {
          "base_uri": "https://localhost:8080/"
        },
        "id": "fA7yEJzyOCoP",
        "outputId": "519c5ffc-5c0b-4485-81a6-1448a5a4ee92"
      },
      "outputs": [
        {
          "name": "stdout",
          "output_type": "stream",
          "text": [
            "['渡辺秀央', '尾辻秀久', '新妻秀規', '佐々木さやか', '浅尾慶一郎', '宮崎勝', '若松謙維', '牧野たかお', '阿達雅志', '岩本剛人', '加田裕之', '加藤明良', '梶原大介', '古庄玄知', '藤木眞也', '堀井巌', '宮崎雅夫', '宮本周司', '杉尾秀哉', '羽田次郎', '森本真治', '上田勇', '塩田博昭', '嘉田由紀子', '松野明美', '舟山康江', '仁比聡平', '青木一彦', '青山繁晴', '朝日健太郎', '井上義行', '今井絵理子', '臼井正一', '江島潔', '大家敏志', '高橋克法', '高橋はるみ', '中西祐介', '藤川政人', '本田顕子', '松山政司', '三原じゅん子', '三宅伸吾', '若林洋平', '勝部賢志', '古賀之士', '塩村あやか', '田島麻衣子', '徳永エリ', '水野素子', '秋野公造', '河野義博', '窪田哲也', '安江伸夫', '猪瀬直樹', '音喜多駿', '清水貴之', '榛葉賀津也', '浜口誠', '紙智子', '天畠大輔', '高良鉄美', '赤松健', '石井浩郎', '神谷政幸', '佐藤正久', '清水真人', '白坂亜紀', '鶴保庸介', '友納理緒', '豊田俊郎', '永井学', '藤井一博', '山下雄平', '青木愛', '小沼巧', '熊谷裕人', '小西洋之', '宮口治子', '森屋隆', '里見隆治', '谷合正明', '矢倉克夫', '山本博司', '梅村聡', '高木かおり', '藤巻健史', '浜野喜史', '井上哲士', '山下芳生', '舩後靖彦', '齊藤健一郎', '赤池誠章', '衛藤晟一', '北村経夫', '小林一大', '松下新平', '山田宏', '山谷えり子', '吉井章', '打越さく良', '川田龍平', '三上えり', '石川博崇', '中条きよし', '柳ヶ瀬裕文', '大塚耕平', '浜田聡', '磯崎仁彦', '越智俊之', '太田房江', '進藤金日子', '長谷川英晴', '古川俊治', '山本啓介', '山本佐知子', '岸真紀子', '高木真理', '広田一', '福島みずほ', '杉久武', '山本香苗', '東徹', '片山大介', '礒崎哲史', '伊藤岳', '生稲晃子', '上野通子', '古賀友一郎', '田中昌史', '中田宏', '比嘉奈津美', '山田太郎', '石川大我', '小沢雅仁', '大椿ゆうこ', '村田享子', '伊藤孝江', '竹内真二', '石井章', '松沢成文', '田村まみ', '倉林明子', '櫻井充', '滝沢求', '堂故茂', '羽生田俊', '橋本聖子', '星北斗', '三浦靖', '宮沢洋一', '森まさこ', '和田政宗', '石垣のりこ', '鬼木誠', '古賀千景', '柴愼一', '野田国義', '横沢高徳', '高橋光男', '平木大作', '横山信一', '浅田均', '石井苗子', '梅村みずほ', '竹詰仁', '芳賀道也', '岩渕友', '大島九州男', '山本太郎', '田名部匡代', '吉川沙織', '岸田内閣総理大臣', '石破茂', '野田佳彦', '馬場伸幸', '玉木雄一郎', '田村智子', '伊藤孝恵', '伊波洋一', '神谷宗幣', '高市早苗', '茂木敏充']\n"
          ]
        }
      ],
      "source": [
        "people_names=response.choices[0].message.content.split(\",\\n\")\n",
        "print(people_names)"
      ]
    },
    {
      "cell_type": "code",
      "execution_count": null,
      "metadata": {
        "id": "juc7iI1-OgZi"
      },
      "outputs": [],
      "source": [
        "question=\"\"\"\n",
        "以下のリストから自民党員のみを抽出して\n",
        "抽出したあとのフォーマットは，\n",
        "名前1, 名前2, 名前3,\n",
        "の形式で出力して\n",
        "---ここからリスト---\n",
        "\n",
        "\"\"\"\n",
        "question=question+\", \".join(people_names)\n",
        "\n",
        "messages=[\n",
        "        {\"role\": \"user\", \"content\": question}\n",
        "]\n",
        "\n",
        "response = client.chat.completions.create(\n",
        "    messages=messages,\n",
        "    model=model,\n",
        "    max_tokens=2000,\n",
        "    temperature=0.7\n",
        ")\n",
        "\n",
        "\n",
        "\n"
      ]
    },
    {
      "cell_type": "code",
      "execution_count": null,
      "metadata": {
        "colab": {
          "base_uri": "https://localhost:8080/"
        },
        "id": "_7UW2YzzPVnZ",
        "outputId": "5a50d1b5-e371-408b-f6b5-f9d986a1b88a"
      },
      "outputs": [
        {
          "name": "stdout",
          "output_type": "stream",
          "text": [
            "渡辺秀央, 尾辻秀久, 青木一彦, 青山繁晴, 朝日健太郎, 井上義行, 今井絵理子, 臼井正一, 江島潔, 大家敏志, 高橋克法, 高橋はるみ, 中西祐介, 藤川政人, 本田顕子, 松山政司, 三原じゅん子, 三宅伸吾, 若林洋平, 勝部賢志, 古賀之士, 河野義博, 清水真人, 鶴保庸介, 豊田俊郎, 永井学, 藤井一博, 山下雄平, 赤池誠章, 衛藤晟一, 北村経夫, 小林一大, 松下新平, 山田宏, 山谷えり子, 磯崎仁彦, 越智俊之, 太田房江, 進藤金日子, 長谷川英晴, 古川俊治, 山本啓介, 山本佐知子, 生稲晃子, 上野通子, 古賀友一郎, 田中昌史, 比嘉奈津美, 山田太郎, 堂故茂, 羽生田俊, 橋本聖子, 星北斗, 三浦靖, 宮沢洋一, 森まさこ, 和田政宗, 岸田内閣総理大臣, 石破茂, 高市早苗, 茂木敏充\n"
          ]
        }
      ],
      "source": [
        "#print(response)\n",
        "response.choices[0].message.role\n",
        "print(response.choices[0].message.content)"
      ]
    }
  ],
  "metadata": {
    "colab": {
      "provenance": []
    },
    "kernelspec": {
      "display_name": "Python 3",
      "name": "python3"
    },
    "language_info": {
      "codemirror_mode": {
        "name": "ipython",
        "version": 3
      },
      "file_extension": ".py",
      "mimetype": "text/x-python",
      "name": "python",
      "nbconvert_exporter": "python",
      "pygments_lexer": "ipython3",
      "version": "3.11.1"
    }
  },
  "nbformat": 4,
  "nbformat_minor": 0
}
