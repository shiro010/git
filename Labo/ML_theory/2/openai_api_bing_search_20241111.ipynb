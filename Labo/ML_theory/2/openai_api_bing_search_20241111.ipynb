{
  "cells": [
    {
      "cell_type": "code",
      "execution_count": 4,
      "metadata": {
        "id": "k4BXDA-8rMNL"
      },
      "outputs": [],
      "source": [
        "from bs4 import BeautifulSoup\n",
        "import json\n",
        "import requests\n",
        "from pathlib import Path\n",
        "import os\n",
        "from openai import OpenAI\n",
        "from dotenv import load_dotenv\n",
        "load_dotenv()\n",
        "api_key  = os.getenv('OPENAI_APIKEY')\n",
        "subscription_key = os.getenv('BING_APIKEY')\n",
        "assert subscription_key\n",
        "\n",
        "\n",
        "search_url = \"https://api.bing.microsoft.com/v7.0/search\" #今回はbingsearchを利用\n",
        "\n",
        "# APIクライアントの初期化\n",
        "\n",
        "client = OpenAI(\n",
        "    # This is the default and can be omitted\n",
        "    api_key=api_key,\n",
        ")\n",
        "\n",
        "#参考文献 https://engineering.mobalab.net/2024/04/25/ より一部抜粋"
      ]
    },
    {
      "cell_type": "code",
      "execution_count": 5,
      "metadata": {},
      "outputs": [
        {
          "name": "stdout",
          "output_type": "stream",
          "text": [
            "True\n"
          ]
        }
      ],
      "source": [
        "def check_openai_api_key(api_key):\n",
        "    client = OpenAI(api_key=api_key)\n",
        "    try:\n",
        "        # モデルのリストを取得して、API キーの有効性を確認\n",
        "        client.models.list()\n",
        "    except Exception as e:\n",
        "        print(f\"エラーが発生しました: {e}\")\n",
        "        return False  # API キーが無効またはエラー\n",
        "    else:\n",
        "        return True  # API キーが有効\n",
        "\n",
        "# 実際の API キーをここに入力\n",
        "is_valid = check_openai_api_key(api_key)\n",
        "print(is_valid)"
      ]
    },
    {
      "cell_type": "code",
      "execution_count": 3,
      "metadata": {
        "id": "5kMeuiTnhD3V"
      },
      "outputs": [],
      "source": [
        "def get_web_content(sentence, num_results=1):\n",
        "\n",
        "    headers = {\n",
        "        \"Ocp-Apim-Subscription-Key\": subscription_key\n",
        "    }\n",
        "    params = {\n",
        "        \"q\": sentence,                     # 検索クエリ\n",
        "        \"textDecorations\": True,\n",
        "        \"textFormat\": \"HTML\",\n",
        "        \"count\": num_results               # 検索結果の数を指定\n",
        "    }\n",
        "    response = requests.get(search_url, headers=headers, params=params)\n",
        "    response.raise_for_status()  # ステータスコードが200でない場合はエラーを発生させる\n",
        "    search_results = response.json()  # 検索結果をJSON形式で取得\n",
        "\n",
        "    # search_resultsからWebページのURLのみを抽出する\n",
        "    if 'webPages' in search_results:\n",
        "        web_pages = search_results['webPages']\n",
        "        if 'value' in web_pages:\n",
        "            urls = [page['url'] for page in web_pages['value']]\n",
        "\n",
        "    all_text = \"\"  # 全てのテキストをこの文字列に追加\n",
        "\n",
        "    # 各URLからHTMLを取得し、<body>タグ内のテキストを抽出\n",
        "    for url in urls:\n",
        "        response = requests.get(url)\n",
        "        response.raise_for_status()  # ステータスコードが200でない場合にエラーを発生させる\n",
        "\n",
        "        html_content = response.content.decode('utf-8')\n",
        "\n",
        "        # HTMLの解析\n",
        "        soup = BeautifulSoup(html_content, 'html.parser')\n",
        "        body = soup.find('body')\n",
        "\n",
        "        if body:\n",
        "            # <body>内のすべてのテキストを抽出し、HTMLタグを除去\n",
        "            body_text = body.get_text(separator=' ', strip=True)\n",
        "            all_text += body_text + \"\\n\\n\"  # テキストを全体のテキストに追加\n",
        "        else:\n",
        "            print(f\"No <body> tag found for URL: {url}\")\n",
        "\n",
        "    if all_text:\n",
        "        message = f\"以下は「{sentence}」に関する情報です。正確な情報を取得してください。\\n{all_text}\"\n",
        "        completion = client.chat.completions.create(\n",
        "            model=\"gpt-4o\",\n",
        "            messages=[\n",
        "                {\"role\": \"user\", \"content\": message}\n",
        "            ]\n",
        "        )\n",
        "\n",
        "        return completion.choices[0].message.content\n",
        "    else:\n",
        "        return \"No text was extracted from the provided URLs.\"\n"
      ]
    },
    {
      "cell_type": "markdown",
      "metadata": {
        "id": "E3Kv5FZEu6Xw"
      },
      "source": [
        "toolsにget_web_content functionを登録する"
      ]
    },
    {
      "cell_type": "code",
      "execution_count": 4,
      "metadata": {
        "id": "oj-Gox4edv6V"
      },
      "outputs": [],
      "source": [
        "tools = [\n",
        "    {\n",
        "        \"type\": \"function\",\n",
        "        \"function\": {\n",
        "            \"name\": \"get_web_content\",\n",
        "            \"description\": \"引数の文章でWeb上を検索して正確な情報を返す関数。\",\n",
        "            \"parameters\": {\n",
        "                \"type\": \"object\",\n",
        "                \"properties\": {\n",
        "                    \"sentence\": {\n",
        "                        \"type\": \"string\",\n",
        "                        \"description\": \"検索する文章。\",\n",
        "                    },\n",
        "                },\n",
        "                \"required\": [\"sentence\"],\n",
        "            },\n",
        "        },\n",
        "    }\n",
        "]\n",
        "\n",
        "# 初期システムプロンプトの設定\n",
        "messages = [\n",
        "    {\"role\": \"system\", \"content\": \"あなたは優秀なアシスタントです。聞かれた情報を学習していない場合はWeb上を検索して正確な情報を返します。\"}\n",
        "]\n",
        "\n"
      ]
    },
    {
      "cell_type": "markdown",
      "metadata": {
        "id": "v-arkB6pURBn"
      },
      "source": [
        "以下は，main関数"
      ]
    },
    {
      "cell_type": "code",
      "execution_count": 5,
      "metadata": {
        "colab": {
          "base_uri": "https://localhost:8080/"
        },
        "id": "KQFvAaTDhPI0",
        "outputId": "38c9c43b-178a-45ec-e61f-66c3c1780e9e"
      },
      "outputs": [
        {
          "name": "stdout",
          "output_type": "stream",
          "text": [
            "get_web_content\n"
          ]
        },
        {
          "ename": "HTTPError",
          "evalue": "401 Client Error: PermissionDenied for url: https://api.bing.microsoft.com/v7.0/search?q=%E6%97%A5%E6%9C%AC%E3%81%AE%E4%BA%BA%E5%8F%A3+2023%E5%B9%B4&textDecorations=True&textFormat=HTML&count=1",
          "output_type": "error",
          "traceback": [
            "\u001b[0;31m---------------------------------------------------------------------------\u001b[0m",
            "\u001b[0;31mHTTPError\u001b[0m                                 Traceback (most recent call last)",
            "Cell \u001b[0;32mIn[5], line 51\u001b[0m\n\u001b[1;32m     49\u001b[0m         arguments \u001b[38;5;241m=\u001b[39m json\u001b[38;5;241m.\u001b[39mloads(tool_call[\u001b[38;5;124m'\u001b[39m\u001b[38;5;124mfunction\u001b[39m\u001b[38;5;124m'\u001b[39m][\u001b[38;5;124m'\u001b[39m\u001b[38;5;124marguments\u001b[39m\u001b[38;5;124m'\u001b[39m])\n\u001b[1;32m     50\u001b[0m         sentence \u001b[38;5;241m=\u001b[39m arguments[\u001b[38;5;124m'\u001b[39m\u001b[38;5;124msentence\u001b[39m\u001b[38;5;124m'\u001b[39m]\n\u001b[0;32m---> 51\u001b[0m         web_content \u001b[38;5;241m=\u001b[39m \u001b[43mget_web_content\u001b[49m\u001b[43m(\u001b[49m\u001b[43msentence\u001b[49m\u001b[43m,\u001b[49m\u001b[43m \u001b[49m\u001b[43mnum_results\u001b[49m\u001b[38;5;241;43m=\u001b[39;49m\u001b[38;5;241;43m1\u001b[39;49m\u001b[43m)\u001b[49m\n\u001b[1;32m     52\u001b[0m         messages\u001b[38;5;241m.\u001b[39mappend({\u001b[38;5;124m\"\u001b[39m\u001b[38;5;124mtool_call_id\u001b[39m\u001b[38;5;124m\"\u001b[39m: tool_call[\u001b[38;5;124m'\u001b[39m\u001b[38;5;124mid\u001b[39m\u001b[38;5;124m'\u001b[39m], \u001b[38;5;124m\"\u001b[39m\u001b[38;5;124mrole\u001b[39m\u001b[38;5;124m\"\u001b[39m: \u001b[38;5;124m\"\u001b[39m\u001b[38;5;124mtool\u001b[39m\u001b[38;5;124m\"\u001b[39m, \u001b[38;5;124m\"\u001b[39m\u001b[38;5;124mname\u001b[39m\u001b[38;5;124m\"\u001b[39m: tool_call[\u001b[38;5;124m'\u001b[39m\u001b[38;5;124mfunction\u001b[39m\u001b[38;5;124m'\u001b[39m][\u001b[38;5;124m'\u001b[39m\u001b[38;5;124mname\u001b[39m\u001b[38;5;124m'\u001b[39m], \u001b[38;5;124m\"\u001b[39m\u001b[38;5;124mcontent\u001b[39m\u001b[38;5;124m\"\u001b[39m: web_content})\n\u001b[1;32m     54\u001b[0m \u001b[38;5;66;03m# すべての変更をAPIに送信して結果を取得\u001b[39;00m\n",
            "Cell \u001b[0;32mIn[3], line 13\u001b[0m, in \u001b[0;36mget_web_content\u001b[0;34m(sentence, num_results)\u001b[0m\n\u001b[1;32m      6\u001b[0m params \u001b[38;5;241m=\u001b[39m {\n\u001b[1;32m      7\u001b[0m     \u001b[38;5;124m\"\u001b[39m\u001b[38;5;124mq\u001b[39m\u001b[38;5;124m\"\u001b[39m: sentence,                     \u001b[38;5;66;03m# 検索クエリ\u001b[39;00m\n\u001b[1;32m      8\u001b[0m     \u001b[38;5;124m\"\u001b[39m\u001b[38;5;124mtextDecorations\u001b[39m\u001b[38;5;124m\"\u001b[39m: \u001b[38;5;28;01mTrue\u001b[39;00m,\n\u001b[1;32m      9\u001b[0m     \u001b[38;5;124m\"\u001b[39m\u001b[38;5;124mtextFormat\u001b[39m\u001b[38;5;124m\"\u001b[39m: \u001b[38;5;124m\"\u001b[39m\u001b[38;5;124mHTML\u001b[39m\u001b[38;5;124m\"\u001b[39m,\n\u001b[1;32m     10\u001b[0m     \u001b[38;5;124m\"\u001b[39m\u001b[38;5;124mcount\u001b[39m\u001b[38;5;124m\"\u001b[39m: num_results               \u001b[38;5;66;03m# 検索結果の数を指定\u001b[39;00m\n\u001b[1;32m     11\u001b[0m }\n\u001b[1;32m     12\u001b[0m response \u001b[38;5;241m=\u001b[39m requests\u001b[38;5;241m.\u001b[39mget(search_url, headers\u001b[38;5;241m=\u001b[39mheaders, params\u001b[38;5;241m=\u001b[39mparams)\n\u001b[0;32m---> 13\u001b[0m \u001b[43mresponse\u001b[49m\u001b[38;5;241;43m.\u001b[39;49m\u001b[43mraise_for_status\u001b[49m\u001b[43m(\u001b[49m\u001b[43m)\u001b[49m  \u001b[38;5;66;03m# ステータスコードが200でない場合はエラーを発生させる\u001b[39;00m\n\u001b[1;32m     14\u001b[0m search_results \u001b[38;5;241m=\u001b[39m response\u001b[38;5;241m.\u001b[39mjson()  \u001b[38;5;66;03m# 検索結果をJSON形式で取得\u001b[39;00m\n\u001b[1;32m     16\u001b[0m \u001b[38;5;66;03m# search_resultsからWebページのURLのみを抽出する\u001b[39;00m\n",
            "File \u001b[0;32m~/.local/share/virtualenvs/workspace-tY_Sdfru/lib/python3.10/site-packages/requests/models.py:1024\u001b[0m, in \u001b[0;36mResponse.raise_for_status\u001b[0;34m(self)\u001b[0m\n\u001b[1;32m   1019\u001b[0m     http_error_msg \u001b[38;5;241m=\u001b[39m (\n\u001b[1;32m   1020\u001b[0m         \u001b[38;5;124mf\u001b[39m\u001b[38;5;124m\"\u001b[39m\u001b[38;5;132;01m{\u001b[39;00m\u001b[38;5;28mself\u001b[39m\u001b[38;5;241m.\u001b[39mstatus_code\u001b[38;5;132;01m}\u001b[39;00m\u001b[38;5;124m Server Error: \u001b[39m\u001b[38;5;132;01m{\u001b[39;00mreason\u001b[38;5;132;01m}\u001b[39;00m\u001b[38;5;124m for url: \u001b[39m\u001b[38;5;132;01m{\u001b[39;00m\u001b[38;5;28mself\u001b[39m\u001b[38;5;241m.\u001b[39murl\u001b[38;5;132;01m}\u001b[39;00m\u001b[38;5;124m\"\u001b[39m\n\u001b[1;32m   1021\u001b[0m     )\n\u001b[1;32m   1023\u001b[0m \u001b[38;5;28;01mif\u001b[39;00m http_error_msg:\n\u001b[0;32m-> 1024\u001b[0m     \u001b[38;5;28;01mraise\u001b[39;00m HTTPError(http_error_msg, response\u001b[38;5;241m=\u001b[39m\u001b[38;5;28mself\u001b[39m)\n",
            "\u001b[0;31mHTTPError\u001b[0m: 401 Client Error: PermissionDenied for url: https://api.bing.microsoft.com/v7.0/search?q=%E6%97%A5%E6%9C%AC%E3%81%AE%E4%BA%BA%E5%8F%A3+2023%E5%B9%B4&textDecorations=True&textFormat=HTML&count=1"
          ]
        }
      ],
      "source": [
        "while True:\n",
        "    # キーボードからユーザー入力を受け取る\n",
        "    user_input = input(\"\\nあなたの質問を入力してください (終了するには 'quit' と入力): \")\n",
        "    if user_input.lower() == 'quit':\n",
        "        break\n",
        "\n",
        "    # ユーザーメッセージを追加\n",
        "    messages.append({\"role\": \"user\", \"content\": user_input})\n",
        "\n",
        "    # ChatGPTモデルに問い合わせ\n",
        "    completion = client.chat.completions.create(\n",
        "        model=\"gpt-4o\",\n",
        "        messages=messages,\n",
        "        tools=tools,\n",
        "        tool_choice=\"auto\" # assistant_response.tool_calls\n",
        "    )\n",
        "\n",
        "    assistant_response = completion.choices[0].message\n",
        "    tool_calls = assistant_response.tool_calls\n",
        "\n",
        "    if tool_calls:\n",
        "\n",
        "        # すべてのtool_callsを処理してリストにまとめる\n",
        "        tool_calls_list = []\n",
        "        for tool_call in tool_calls:\n",
        "            tool_call_id = tool_call.id\n",
        "            tool_call_type = tool_call.type\n",
        "            tool_call_function = tool_call.function\n",
        "\n",
        "            tool_calls_list.append({\n",
        "                \"id\": tool_call_id,\n",
        "                \"type\": tool_call_type,\n",
        "                \"function\": {\n",
        "                    \"name\": tool_call_function.name,\n",
        "                    \"arguments\": tool_call_function.arguments\n",
        "                }\n",
        "            })\n",
        "\n",
        "        # tool_callsの全情報をmessagesに一度に追加\n",
        "        messages.append({\n",
        "            \"role\": \"assistant\",\n",
        "            \"tool_calls\": tool_calls_list\n",
        "        })\n",
        "\n",
        "        # ツールがget_web_contentである場合、その関数を実行する\n",
        "        for tool_call in tool_calls_list:\n",
        "            print(tool_call['function']['name'])\n",
        "            if tool_call['function']['name'] == \"get_web_content\":\n",
        "                arguments = json.loads(tool_call['function']['arguments'])\n",
        "                sentence = arguments['sentence']\n",
        "                web_content = get_web_content(sentence, num_results=1)\n",
        "                messages.append({\"tool_call_id\": tool_call['id'], \"role\": \"tool\", \"name\": tool_call['function']['name'], \"content\": web_content})\n",
        "\n",
        "        # すべての変更をAPIに送信して結果を取得\n",
        "        completion = client.chat.completions.create(\n",
        "            model=\"gpt-4o\",\n",
        "            messages=messages\n",
        "        )\n",
        "        assistant_response = completion.choices[0].message.content\n",
        "        print(\"Assistant:\", assistant_response)\n",
        "        messages.append({\"role\": \"assistant\", \"content\": assistant_response})\n",
        "    else:\n",
        "        assistant_response = assistant_response.content\n",
        "        print(\"Assistant:\", assistant_response)\n",
        "\n",
        "        messages.append({\"role\": \"assistant\", \"content\": assistant_response})\n"
      ]
    }
  ],
  "metadata": {
    "colab": {
      "provenance": []
    },
    "kernelspec": {
      "display_name": "Python 3",
      "language": "python",
      "name": "python3"
    },
    "language_info": {
      "codemirror_mode": {
        "name": "ipython",
        "version": 3
      },
      "file_extension": ".py",
      "mimetype": "text/x-python",
      "name": "python",
      "nbconvert_exporter": "python",
      "pygments_lexer": "ipython3",
      "version": "3.11.1"
    }
  },
  "nbformat": 4,
  "nbformat_minor": 0
}
