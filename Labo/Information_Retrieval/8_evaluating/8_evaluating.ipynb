{
 "cells": [
  {
   "cell_type": "markdown",
   "id": "c6e6bb8e",
   "metadata": {},
   "source": [
    "元url(https://nlp.stanford.edu/IR-book/pdf/08eval.pdf)  \n",
    "情報の需要と検索エンジンについての話。  \n",
    "crawling: 様々なサイトを巡回して情報の保存を行う。"
   ]
  }
 ],
 "metadata": {
  "language_info": {
   "name": "python"
  }
 },
 "nbformat": 4,
 "nbformat_minor": 5
}
